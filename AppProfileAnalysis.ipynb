{
 "cells": [
  {
   "cell_type": "markdown",
   "metadata": {},
   "source": [
    "# Profitable app portfolio for apps from Google Play and App Store\n",
    "\n",
    "* In this project we analyze app profile that are profitable across Google Play and App Store markets. We are working as data analyst for a company that creates free Android and iOS apps, which means most of our profit comes from direct usage of the apps by consumers.  \n",
    "\n",
    "* Aim of this project is to gain understing about which apps arr most likely to attract users and to enable our team of developers to make data-driven decisions with respect to the kind of apps they build.\n"
   ]
  },
  {
   "cell_type": "code",
   "execution_count": 3,
   "metadata": {
    "collapsed": true
   },
   "outputs": [],
   "source": [
    "def explore_data(dataset, start, end, rows_and_columns=False):\n",
    "    dataset_slice = dataset[start:end]    \n",
    "    for row in dataset_slice:\n",
    "        print(row)\n",
    "        print('\\n') # adds a new (empty) line after each row\n",
    "\n",
    "    if rows_and_columns:\n",
    "        print('Number of rows:', len(dataset))\n",
    "        print('Number of columns:', len(dataset[0]))"
   ]
  },
  {
   "cell_type": "code",
   "execution_count": 4,
   "metadata": {
    "collapsed": false
   },
   "outputs": [],
   "source": [
    "from csv import reader\n",
    "as_data = open('AppleStore.csv')\n",
    "app_store = list(reader(as_data))\n",
    "gp_data = open('googleplaystore.csv')\n",
    "google_play = list(reader(gp_data))"
   ]
  },
  {
   "cell_type": "code",
   "execution_count": 5,
   "metadata": {
    "collapsed": false
   },
   "outputs": [
    {
     "name": "stdout",
     "output_type": "stream",
     "text": [
      "['id', 'track_name', 'size_bytes', 'currency', 'price', 'rating_count_tot', 'rating_count_ver', 'user_rating', 'user_rating_ver', 'ver', 'cont_rating', 'prime_genre', 'sup_devices.num', 'ipadSc_urls.num', 'lang.num', 'vpp_lic']\n",
      "\n",
      "\n",
      "['284882215', 'Facebook', '389879808', 'USD', '0.0', '2974676', '212', '3.5', '3.5', '95.0', '4+', 'Social Networking', '37', '1', '29', '1']\n",
      "\n",
      "\n",
      "['389801252', 'Instagram', '113954816', 'USD', '0.0', '2161558', '1289', '4.5', '4.0', '10.23', '12+', 'Photo & Video', '37', '0', '29', '1']\n",
      "\n",
      "\n",
      "['529479190', 'Clash of Clans', '116476928', 'USD', '0.0', '2130805', '579', '4.5', '4.5', '9.24.12', '9+', 'Games', '38', '5', '18', '1']\n",
      "\n",
      "\n",
      "['420009108', 'Temple Run', '65921024', 'USD', '0.0', '1724546', '3842', '4.5', '4.0', '1.6.2', '9+', 'Games', '40', '5', '1', '1']\n",
      "\n",
      "\n",
      "['284035177', 'Pandora - Music & Radio', '130242560', 'USD', '0.0', '1126879', '3594', '4.0', '4.5', '8.4.1', '12+', 'Music', '37', '4', '1', '1']\n",
      "\n",
      "\n",
      "['429047995', 'Pinterest', '74778624', 'USD', '0.0', '1061624', '1814', '4.5', '4.0', '6.26', '12+', 'Social Networking', '37', '5', '27', '1']\n",
      "\n",
      "\n",
      "['282935706', 'Bible', '92774400', 'USD', '0.0', '985920', '5320', '4.5', '5.0', '7.5.1', '4+', 'Reference', '37', '5', '45', '1']\n",
      "\n",
      "\n",
      "['553834731', 'Candy Crush Saga', '222846976', 'USD', '0.0', '961794', '2453', '4.5', '4.5', '1.101.0', '4+', 'Games', '43', '5', '24', '1']\n",
      "\n",
      "\n",
      "['324684580', 'Spotify Music', '132510720', 'USD', '0.0', '878563', '8253', '4.5', '4.5', '8.4.3', '12+', 'Music', '37', '5', '18', '1']\n",
      "\n",
      "\n",
      "['343200656', 'Angry Birds', '175966208', 'USD', '0.0', '824451', '107', '4.5', '3.0', '7.4.0', '4+', 'Games', '38', '0', '10', '1']\n",
      "\n",
      "\n",
      "['512939461', 'Subway Surfers', '156038144', 'USD', '0.0', '706110', '97', '4.5', '4.0', '1.72.1', '9+', 'Games', '38', '5', '1', '1']\n",
      "\n",
      "\n",
      "['362949845', 'Fruit Ninja Classic', '104590336', 'USD', '1.99', '698516', '132', '4.5', '4.0', '2.3.9', '4+', 'Games', '38', '5', '13', '1']\n",
      "\n",
      "\n",
      "['359917414', 'Solitaire', '101943296', 'USD', '0.0', '679055', '9673', '4.5', '4.5', '4.11.2', '4+', 'Games', '38', '4', '11', '1']\n",
      "\n",
      "\n",
      "['469369175', 'CSR Racing', '524803072', 'USD', '0.0', '677247', '2029', '4.5', '4.5', '4.0.1', '4+', 'Games', '37', '5', '10', '1']\n",
      "\n",
      "\n",
      "Number of rows: 7198\n",
      "Number of columns: 16\n"
     ]
    }
   ],
   "source": [
    "explore_data(app_store,0,15, True)"
   ]
  },
  {
   "cell_type": "code",
   "execution_count": 6,
   "metadata": {
    "collapsed": false
   },
   "outputs": [
    {
     "name": "stdout",
     "output_type": "stream",
     "text": [
      "['App', 'Category', 'Rating', 'Reviews', 'Size', 'Installs', 'Type', 'Price', 'Content Rating', 'Genres', 'Last Updated', 'Current Ver', 'Android Ver']\n",
      "\n",
      "\n",
      "['Photo Editor & Candy Camera & Grid & ScrapBook', 'ART_AND_DESIGN', '4.1', '159', '19M', '10,000+', 'Free', '0', 'Everyone', 'Art & Design', 'January 7, 2018', '1.0.0', '4.0.3 and up']\n",
      "\n",
      "\n",
      "['Coloring book moana', 'ART_AND_DESIGN', '3.9', '967', '14M', '500,000+', 'Free', '0', 'Everyone', 'Art & Design;Pretend Play', 'January 15, 2018', '2.0.0', '4.0.3 and up']\n",
      "\n",
      "\n",
      "Number of rows: 10842\n",
      "Number of columns: 13\n"
     ]
    }
   ],
   "source": [
    "explore_data(google_play,0,3, True)"
   ]
  },
  {
   "cell_type": "code",
   "execution_count": 7,
   "metadata": {
    "collapsed": false
   },
   "outputs": [
    {
     "name": "stdout",
     "output_type": "stream",
     "text": [
      "['id', 'track_name', 'size_bytes', 'currency', 'price', 'rating_count_tot', 'rating_count_ver', 'user_rating', 'user_rating_ver', 'ver', 'cont_rating', 'prime_genre', 'sup_devices.num', 'ipadSc_urls.num', 'lang.num', 'vpp_lic']\n",
      "['App', 'Category', 'Rating', 'Reviews', 'Size', 'Installs', 'Type', 'Price', 'Content Rating', 'Genres', 'Last Updated', 'Current Ver', 'Android Ver']\n"
     ]
    }
   ],
   "source": [
    "app_store_header = app_store[0]\n",
    "app_store = app_store[1:]\n",
    "google_play_header = google_play[0]\n",
    "google_play = google_play[1:]\n",
    "\n",
    "print(app_store_header)\n",
    "print(google_play_header)"
   ]
  },
  {
   "cell_type": "code",
   "execution_count": 8,
   "metadata": {
    "collapsed": false
   },
   "outputs": [
    {
     "name": "stdout",
     "output_type": "stream",
     "text": [
      "['osmino Wi-Fi: free WiFi', 'TOOLS', '4.2', '134203', '4.1M', '10,000,000+', 'Free', '0', 'Everyone', 'Tools', 'August 7, 2018', '6.06.14', '4.4 and up']\n"
     ]
    }
   ],
   "source": [
    "# correct incorrect row\n",
    "#del google_play[10472]\n",
    "print(google_play[10472])"
   ]
  },
  {
   "cell_type": "markdown",
   "metadata": {},
   "source": [
    "# Cleaning Google Play dataset\n",
    "\n",
    " According to discussion on kaggle there is duplicate data in goole play data set, i.e. there are multiple entries for the same app:"
   ]
  },
  {
   "cell_type": "code",
   "execution_count": 9,
   "metadata": {
    "collapsed": false
   },
   "outputs": [
    {
     "name": "stdout",
     "output_type": "stream",
     "text": [
      "['Coloring book moana', 'ART_AND_DESIGN', '3.9', '967', '14M', '500,000+', 'Free', '0', 'Everyone', 'Art & Design;Pretend Play', 'January 15, 2018', '2.0.0', '4.0.3 and up']\n",
      "['Coloring book moana', 'FAMILY', '3.9', '974', '14M', '500,000+', 'Free', '0', 'Everyone', 'Art & Design;Pretend Play', 'January 15, 2018', '2.0.0', '4.0.3 and up']\n"
     ]
    }
   ],
   "source": [
    "for app in google_play:\n",
    "    if (app[0] == 'Coloring book moana'):\n",
    "        print(app)"
   ]
  },
  {
   "cell_type": "markdown",
   "metadata": {},
   "source": [
    "In following code we will count total of dublicate and unique app entries in the data set:"
   ]
  },
  {
   "cell_type": "code",
   "execution_count": 10,
   "metadata": {
    "collapsed": false
   },
   "outputs": [
    {
     "name": "stdout",
     "output_type": "stream",
     "text": [
      "Number of uniue entries:  9659\n",
      "Number of duplicated entries:  1181\n"
     ]
    }
   ],
   "source": [
    "unique_apps = []\n",
    "duplicate_apps = []\n",
    "\n",
    "for app in google_play:\n",
    "    name = app[0]\n",
    "    if name not in unique_apps:\n",
    "        unique_apps.append(name)\n",
    "    else:\n",
    "        duplicate_apps.append(name)\n",
    "        \n",
    "print('Number of uniue entries: ', len(unique_apps))\n",
    "print('Number of duplicated entries: ', len(duplicate_apps))"
   ]
  },
  {
   "cell_type": "markdown",
   "metadata": {},
   "source": [
    "In the next step we will proceed to remove duplicates based on the number of riviews. We could use different criterion, but as you can see in the example above, there might not be any differences. Thus, the entry with more reviews will be selected, because it indicates that this entry was the latest one. After duplicate removal we should get **9659** numer of rows (see calculation above)."
   ]
  },
  {
   "cell_type": "code",
   "execution_count": 11,
   "metadata": {
    "collapsed": false
   },
   "outputs": [
    {
     "name": "stdout",
     "output_type": "stream",
     "text": [
      "974.0\n"
     ]
    }
   ],
   "source": [
    "reviews_max = {}\n",
    "\n",
    "for app in google_play:\n",
    "    name = app[0]\n",
    "    n_reviews = float(app[3])\n",
    "    \n",
    "    if(name not in reviews_max) or (reviews_max[name] < n_reviews):\n",
    "        reviews_max[name] = n_reviews\n",
    "    \n",
    "    \n",
    "print(reviews_max.get('Coloring book moana'))"
   ]
  },
  {
   "cell_type": "code",
   "execution_count": 12,
   "metadata": {
    "collapsed": false
   },
   "outputs": [
    {
     "name": "stdout",
     "output_type": "stream",
     "text": [
      "['U Launcher Lite – FREE Live Cool Themes, Hide Apps', 'ART_AND_DESIGN', '4.7', '87510', '8.7M', '5,000,000+', 'Free', '0', 'Everyone', 'Art & Design', 'August 1, 2018', '1.2.4', '4.0.3 and up']\n",
      "\n",
      "\n",
      "['Sketch - Draw & Paint', 'ART_AND_DESIGN', '4.5', '215644', '25M', '50,000,000+', 'Free', '0', 'Teen', 'Art & Design', 'June 8, 2018', 'Varies with device', '4.2 and up']\n",
      "\n",
      "\n",
      "Number of rows: 9659\n",
      "Number of columns: 13\n"
     ]
    }
   ],
   "source": [
    "android_clean = []\n",
    "already_added = []\n",
    "\n",
    "for app in google_play:\n",
    "    name = app[0]\n",
    "    n_reviews = float(app[3])\n",
    "    \n",
    "    if(n_reviews == reviews_max[name] and name not in already_added):\n",
    "        android_clean.append(app)\n",
    "        already_added.append(name)\n",
    "        \n",
    "explore_data(android_clean, 1, 3, True)"
   ]
  },
  {
   "cell_type": "markdown",
   "metadata": {},
   "source": [
    "# Removing non english apps"
   ]
  },
  {
   "cell_type": "code",
   "execution_count": 13,
   "metadata": {
    "collapsed": false
   },
   "outputs": [
    {
     "name": "stdout",
     "output_type": "stream",
     "text": [
      "False\n",
      "True\n"
     ]
    }
   ],
   "source": [
    "def is_english(app_name):\n",
    "    non_ascii  = 0;\n",
    "    \n",
    "    for char in app_name:\n",
    "        if ord(char) > 127:\n",
    "            non_ascii += 1\n",
    "            \n",
    "    if non_ascii > 3:\n",
    "        return False\n",
    "    return True\n",
    "\n",
    "print(is_english('爱奇艺PPS -《欢乐颂2》电视剧热播'))\n",
    "print(is_english('Docs To Go™ Free Office Suite'))"
   ]
  },
  {
   "cell_type": "code",
   "execution_count": 14,
   "metadata": {
    "collapsed": true
   },
   "outputs": [],
   "source": [
    "def filter_english_apps(list_of_apps, app_name_column_index):\n",
    "    clean_list = []\n",
    "    for app in list_of_apps:\n",
    "        if(is_english(app[app_name_column_index])):\n",
    "            clean_list.append(app)\n",
    "    return clean_list"
   ]
  },
  {
   "cell_type": "code",
   "execution_count": 15,
   "metadata": {
    "collapsed": false
   },
   "outputs": [
    {
     "name": "stdout",
     "output_type": "stream",
     "text": [
      "['Photo Editor & Candy Camera & Grid & ScrapBook', 'ART_AND_DESIGN', '4.1', '159', '19M', '10,000+', 'Free', '0', 'Everyone', 'Art & Design', 'January 7, 2018', '1.0.0', '4.0.3 and up']\n",
      "\n",
      "\n",
      "['U Launcher Lite – FREE Live Cool Themes, Hide Apps', 'ART_AND_DESIGN', '4.7', '87510', '8.7M', '5,000,000+', 'Free', '0', 'Everyone', 'Art & Design', 'August 1, 2018', '1.2.4', '4.0.3 and up']\n",
      "\n",
      "\n",
      "['Sketch - Draw & Paint', 'ART_AND_DESIGN', '4.5', '215644', '25M', '50,000,000+', 'Free', '0', 'Teen', 'Art & Design', 'June 8, 2018', 'Varies with device', '4.2 and up']\n",
      "\n",
      "\n",
      "Number of rows: 9614\n",
      "Number of columns: 13\n"
     ]
    }
   ],
   "source": [
    "google_play_eng = filter_english_apps(android_clean ,0)\n",
    "explore_data(google_play_eng,0,3,True)"
   ]
  },
  {
   "cell_type": "code",
   "execution_count": 16,
   "metadata": {
    "collapsed": false
   },
   "outputs": [
    {
     "name": "stdout",
     "output_type": "stream",
     "text": [
      "['284882215', 'Facebook', '389879808', 'USD', '0.0', '2974676', '212', '3.5', '3.5', '95.0', '4+', 'Social Networking', '37', '1', '29', '1']\n",
      "\n",
      "\n",
      "['389801252', 'Instagram', '113954816', 'USD', '0.0', '2161558', '1289', '4.5', '4.0', '10.23', '12+', 'Photo & Video', '37', '0', '29', '1']\n",
      "\n",
      "\n",
      "['529479190', 'Clash of Clans', '116476928', 'USD', '0.0', '2130805', '579', '4.5', '4.5', '9.24.12', '9+', 'Games', '38', '5', '18', '1']\n",
      "\n",
      "\n",
      "Number of rows: 6183\n",
      "Number of columns: 16\n"
     ]
    }
   ],
   "source": [
    "app_store_eng = filter_english_apps(app_store, 1)\n",
    "explore_data(app_store_eng,0,3,True)"
   ]
  },
  {
   "cell_type": "markdown",
   "metadata": {},
   "source": [
    "# Isolating free apps\n",
    "\n",
    "since our company develops only free apps, we only care abut data concerning free application. Both data sets have column 'price', 5th in App Store data set and 8th in Google Play. "
   ]
  },
  {
   "cell_type": "code",
   "execution_count": 17,
   "metadata": {
    "collapsed": false
   },
   "outputs": [
    {
     "name": "stdout",
     "output_type": "stream",
     "text": [
      "4\n",
      "7\n"
     ]
    }
   ],
   "source": [
    "print(app_store_header.index('price'))\n",
    "print(google_play_header.index('Price'))"
   ]
  },
  {
   "cell_type": "code",
   "execution_count": 18,
   "metadata": {
    "collapsed": false
   },
   "outputs": [],
   "source": [
    "def filter_free_apps(list_of_apps, price_column_index):\n",
    "    result = []\n",
    "    for app in list_of_apps:\n",
    "        if app[price_column_index] == '0' or app[price_column_index] == '0.0':\n",
    "            result.append(app)\n",
    "    return result\n",
    "\n",
    "ios_final = filter_free_apps(app_store_eng, app_store_header.index('price'))\n",
    "android_final = filter_free_apps(google_play_eng, google_play_header.index('Price'))"
   ]
  },
  {
   "cell_type": "code",
   "execution_count": 19,
   "metadata": {
    "collapsed": false
   },
   "outputs": [
    {
     "name": "stdout",
     "output_type": "stream",
     "text": [
      "3222\n",
      "8864\n"
     ]
    }
   ],
   "source": [
    "print(len(ios_final))\n",
    "print(len(android_final))"
   ]
  },
  {
   "cell_type": "markdown",
   "metadata": {},
   "source": [
    "# Identifying optimal app profile\n",
    "\n",
    "As end goal for apps designed by our company to be available both to Android and iOS users, we need to get a sense of which application do well in both market spaces. To do that we will find common ground between popular application in both data sets, starting with genres. To do that we will generate frequency tables for both data sets and see which type of app we should focus are development efforts on."
   ]
  },
  {
   "cell_type": "code",
   "execution_count": 24,
   "metadata": {
    "collapsed": false
   },
   "outputs": [
    {
     "name": "stdout",
     "output_type": "stream",
     "text": [
      "1\n",
      "9\n",
      "11\n"
     ]
    }
   ],
   "source": [
    "print(google_play_header.index('Category'))\n",
    "print(google_play_header.index('Genres'))\n",
    "print(app_store_header.index('prime_genre'))"
   ]
  },
  {
   "cell_type": "code",
   "execution_count": 28,
   "metadata": {
    "collapsed": true
   },
   "outputs": [],
   "source": [
    "def freq_table(dataset, index):\n",
    "    frequency_table = {}\n",
    "    for app in dataset:\n",
    "        genre = app[index]\n",
    "        if genre in frequency_table:\n",
    "            frequency_table[genre] += 1\n",
    "        else:\n",
    "            frequency_table[genre] = 1\n",
    "    return frequency_table\n",
    "\n",
    "def display_table(dataset, index):\n",
    "    table = freq_table(dataset, index)\n",
    "    table_display = []\n",
    "    for key in table:\n",
    "        key_val_as_tuple = (table[key], key)\n",
    "        table_display.append(key_val_as_tuple)\n",
    "\n",
    "    table_sorted = sorted(table_display, reverse = True)\n",
    "    for entry in table_sorted:\n",
    "        print(entry[1], ':', entry[0])"
   ]
  },
  {
   "cell_type": "code",
   "execution_count": 30,
   "metadata": {
    "collapsed": false
   },
   "outputs": [
    {
     "name": "stdout",
     "output_type": "stream",
     "text": [
      "FAMILY : 1676\n",
      "GAME : 862\n",
      "TOOLS : 750\n",
      "BUSINESS : 407\n",
      "LIFESTYLE : 346\n",
      "PRODUCTIVITY : 345\n",
      "FINANCE : 328\n",
      "MEDICAL : 313\n",
      "SPORTS : 301\n",
      "PERSONALIZATION : 294\n",
      "COMMUNICATION : 287\n",
      "HEALTH_AND_FITNESS : 273\n",
      "PHOTOGRAPHY : 261\n",
      "NEWS_AND_MAGAZINES : 248\n",
      "SOCIAL : 236\n",
      "TRAVEL_AND_LOCAL : 207\n",
      "SHOPPING : 199\n",
      "BOOKS_AND_REFERENCE : 190\n",
      "DATING : 165\n",
      "VIDEO_PLAYERS : 159\n",
      "MAPS_AND_NAVIGATION : 124\n",
      "FOOD_AND_DRINK : 110\n",
      "EDUCATION : 103\n",
      "ENTERTAINMENT : 85\n",
      "LIBRARIES_AND_DEMO : 83\n",
      "AUTO_AND_VEHICLES : 82\n",
      "HOUSE_AND_HOME : 73\n",
      "WEATHER : 71\n",
      "EVENTS : 63\n",
      "PARENTING : 58\n",
      "ART_AND_DESIGN : 57\n",
      "COMICS : 55\n",
      "BEAUTY : 53\n"
     ]
    }
   ],
   "source": [
    "display_table(android_final, google_play_header.index('Category'))"
   ]
  },
  {
   "cell_type": "code",
   "execution_count": 31,
   "metadata": {
    "collapsed": false
   },
   "outputs": [
    {
     "name": "stdout",
     "output_type": "stream",
     "text": [
      "Tools : 749\n",
      "Entertainment : 538\n",
      "Education : 474\n",
      "Business : 407\n",
      "Productivity : 345\n",
      "Lifestyle : 345\n",
      "Finance : 328\n",
      "Medical : 313\n",
      "Sports : 307\n",
      "Personalization : 294\n",
      "Communication : 287\n",
      "Action : 275\n",
      "Health & Fitness : 273\n",
      "Photography : 261\n",
      "News & Magazines : 248\n",
      "Social : 236\n",
      "Travel & Local : 206\n",
      "Shopping : 199\n",
      "Books & Reference : 190\n",
      "Simulation : 181\n",
      "Dating : 165\n",
      "Arcade : 164\n",
      "Video Players & Editors : 157\n",
      "Casual : 156\n",
      "Maps & Navigation : 124\n",
      "Food & Drink : 110\n",
      "Puzzle : 100\n",
      "Racing : 88\n",
      "Role Playing : 83\n",
      "Libraries & Demo : 83\n",
      "Auto & Vehicles : 82\n",
      "Strategy : 81\n",
      "House & Home : 73\n",
      "Weather : 71\n",
      "Events : 63\n",
      "Adventure : 60\n",
      "Comics : 54\n",
      "Beauty : 53\n",
      "Art & Design : 53\n",
      "Parenting : 44\n",
      "Card : 40\n",
      "Casino : 38\n",
      "Trivia : 37\n",
      "Educational;Education : 35\n",
      "Board : 34\n",
      "Educational : 33\n",
      "Education;Education : 30\n",
      "Word : 23\n",
      "Casual;Pretend Play : 21\n",
      "Music : 18\n",
      "Racing;Action & Adventure : 15\n",
      "Puzzle;Brain Games : 15\n",
      "Entertainment;Music & Video : 15\n",
      "Casual;Brain Games : 12\n",
      "Casual;Action & Adventure : 12\n",
      "Arcade;Action & Adventure : 11\n",
      "Action;Action & Adventure : 9\n",
      "Educational;Pretend Play : 8\n",
      "Simulation;Action & Adventure : 7\n",
      "Parenting;Education : 7\n",
      "Entertainment;Brain Games : 7\n",
      "Board;Brain Games : 7\n",
      "Parenting;Music & Video : 6\n",
      "Educational;Brain Games : 6\n",
      "Casual;Creativity : 6\n",
      "Art & Design;Creativity : 6\n",
      "Education;Pretend Play : 5\n",
      "Role Playing;Pretend Play : 4\n",
      "Education;Creativity : 4\n",
      "Role Playing;Action & Adventure : 3\n",
      "Puzzle;Action & Adventure : 3\n",
      "Entertainment;Creativity : 3\n",
      "Entertainment;Action & Adventure : 3\n",
      "Educational;Creativity : 3\n",
      "Educational;Action & Adventure : 3\n",
      "Education;Music & Video : 3\n",
      "Education;Brain Games : 3\n",
      "Education;Action & Adventure : 3\n",
      "Adventure;Action & Adventure : 3\n",
      "Video Players & Editors;Music & Video : 2\n",
      "Sports;Action & Adventure : 2\n",
      "Simulation;Pretend Play : 2\n",
      "Puzzle;Creativity : 2\n",
      "Music;Music & Video : 2\n",
      "Entertainment;Pretend Play : 2\n",
      "Casual;Education : 2\n",
      "Board;Action & Adventure : 2\n",
      "Video Players & Editors;Creativity : 1\n",
      "Trivia;Education : 1\n",
      "Travel & Local;Action & Adventure : 1\n",
      "Tools;Education : 1\n",
      "Strategy;Education : 1\n",
      "Strategy;Creativity : 1\n",
      "Strategy;Action & Adventure : 1\n",
      "Simulation;Education : 1\n",
      "Role Playing;Brain Games : 1\n",
      "Racing;Pretend Play : 1\n",
      "Puzzle;Education : 1\n",
      "Parenting;Brain Games : 1\n",
      "Music & Audio;Music & Video : 1\n",
      "Lifestyle;Pretend Play : 1\n",
      "Lifestyle;Education : 1\n",
      "Health & Fitness;Education : 1\n",
      "Health & Fitness;Action & Adventure : 1\n",
      "Entertainment;Education : 1\n",
      "Communication;Creativity : 1\n",
      "Comics;Creativity : 1\n",
      "Casual;Music & Video : 1\n",
      "Card;Action & Adventure : 1\n",
      "Books & Reference;Education : 1\n",
      "Art & Design;Pretend Play : 1\n",
      "Art & Design;Action & Adventure : 1\n",
      "Arcade;Pretend Play : 1\n",
      "Adventure;Education : 1\n"
     ]
    }
   ],
   "source": [
    "display_table(android_final, google_play_header.index('Genres'))"
   ]
  },
  {
   "cell_type": "code",
   "execution_count": 33,
   "metadata": {
    "collapsed": false
   },
   "outputs": [
    {
     "name": "stdout",
     "output_type": "stream",
     "text": [
      "Games : 1874\n",
      "Entertainment : 254\n",
      "Photo & Video : 160\n",
      "Education : 118\n",
      "Social Networking : 106\n",
      "Shopping : 84\n",
      "Utilities : 81\n",
      "Sports : 69\n",
      "Music : 66\n",
      "Health & Fitness : 65\n",
      "Productivity : 56\n",
      "Lifestyle : 51\n",
      "News : 43\n",
      "Travel : 40\n",
      "Finance : 36\n",
      "Weather : 28\n",
      "Food & Drink : 26\n",
      "Reference : 18\n",
      "Business : 17\n",
      "Book : 14\n",
      "Navigation : 6\n",
      "Medical : 6\n",
      "Catalogs : 4\n"
     ]
    }
   ],
   "source": [
    "display_table(ios_final, app_store_header.index('prime_genre'))"
   ]
  },
  {
   "cell_type": "markdown",
   "metadata": {},
   "source": [
    "# Most Popular Apps by Genre on the App Store\n",
    "\n",
    "As we can see both markets have a lean towards entertainment apps, but that does not indicate that these application ar downloaded and used the most. To get that information weļl collect installtion / rating number for each genre, which will represent popularity of applications of specific genre among users."
   ]
  },
  {
   "cell_type": "code",
   "execution_count": 42,
   "metadata": {
    "collapsed": false
   },
   "outputs": [
    {
     "name": "stdout",
     "output_type": "stream",
     "text": [
      "Social Networking :  71548.34905660378\n",
      "Education :  7003.983050847458\n",
      "Catalogs :  4004.0\n",
      "Lifestyle :  16485.764705882353\n",
      "Finance :  31467.944444444445\n",
      "Photo & Video :  28441.54375\n",
      "News :  21248.023255813954\n",
      "Navigation :  86090.33333333333\n",
      "Health & Fitness :  23298.015384615384\n",
      "Utilities :  18684.456790123455\n",
      "Entertainment :  14029.830708661417\n",
      "Book :  39758.5\n",
      "Sports :  23008.898550724636\n",
      "Shopping :  26919.690476190477\n",
      "Travel :  28243.8\n",
      "Music :  57326.530303030304\n",
      "Productivity :  21028.410714285714\n",
      "Business :  7491.117647058823\n",
      "Medical :  612.0\n",
      "Reference :  74942.11111111111\n",
      "Games :  22788.6696905016\n",
      "Weather :  52279.892857142855\n",
      "Food & Drink :  33333.92307692308\n"
     ]
    }
   ],
   "source": [
    "prime_gen_index = app_store_header.index('prime_genre')\n",
    "prime_genre_freq = freq_table(ios_final, prime_gen_index)\n",
    "\n",
    "for genre in prime_genre_freq:\n",
    "    total = 0\n",
    "    len_genre = 0\n",
    "    for app in ios_final:\n",
    "        genre_app = app[prime_gen_index]\n",
    "        if genre_app == genre:\n",
    "            total += float(app[app_store_header.index('rating_count_tot')])\n",
    "            len_genre += 1\n",
    "    avg_total = total/len_genre\n",
    "    print(genre, \": \", avg_total)"
   ]
  },
  {
   "cell_type": "code",
   "execution_count": 43,
   "metadata": {
    "collapsed": false
   },
   "outputs": [
    {
     "name": "stdout",
     "output_type": "stream",
     "text": [
      "Facebook :  2974676\n",
      "Pinterest :  1061624\n",
      "Skype for iPhone :  373519\n",
      "Messenger :  351466\n",
      "Tumblr :  334293\n",
      "WhatsApp Messenger :  287589\n",
      "Kik :  260965\n",
      "ooVoo – Free Video Call, Text and Voice :  177501\n",
      "TextNow - Unlimited Text + Calls :  164963\n",
      "Viber Messenger – Text & Call :  164249\n",
      "Followers - Social Analytics For Instagram :  112778\n",
      "MeetMe - Chat and Meet New People :  97072\n",
      "We Heart It - Fashion, wallpapers, quotes, tattoos :  90414\n",
      "InsTrack for Instagram - Analytics Plus More :  85535\n",
      "Tango - Free Video Call, Voice and Chat :  75412\n",
      "LinkedIn :  71856\n",
      "Match™ - #1 Dating App. :  60659\n",
      "Skype for iPad :  60163\n",
      "POF - Best Dating App for Conversations :  52642\n",
      "Timehop :  49510\n",
      "Find My Family, Friends & iPhone - Life360 Locator :  43877\n",
      "Whisper - Share, Express, Meet :  39819\n",
      "Hangouts :  36404\n",
      "LINE PLAY - Your Avatar World :  34677\n",
      "WeChat :  34584\n",
      "Badoo - Meet New People, Chat, Socialize. :  34428\n",
      "Followers + for Instagram - Follower Analytics :  28633\n",
      "GroupMe :  28260\n",
      "Marco Polo Video Walkie Talkie :  27662\n",
      "Miitomo :  23965\n",
      "SimSimi :  23530\n",
      "Grindr - Gay and same sex guys chat, meet and date :  23201\n",
      "Wishbone - Compare Anything :  20649\n",
      "imo video calls and chat :  18841\n",
      "After School - Funny Anonymous School News :  18482\n",
      "Quick Reposter - Repost, Regram and Reshare Photos :  17694\n",
      "Weibo HD :  16772\n",
      "Repost for Instagram :  15185\n",
      "Live.me – Live Video Chat & Make Friends Nearby :  14724\n",
      "Nextdoor :  14402\n",
      "Followers Analytics for Instagram - InstaReport :  13914\n",
      "YouNow: Live Stream Video Chat :  12079\n",
      "FollowMeter for Instagram - Followers Tracking :  11976\n",
      "LINE :  11437\n",
      "eHarmony™ Dating App - Meet Singles :  11124\n",
      "Discord - Chat for Gamers :  9152\n",
      "QQ :  9109\n",
      "Telegram Messenger :  7573\n",
      "Weibo :  7265\n",
      "Periscope - Live Video Streaming Around the World :  6062\n",
      "Chat for Whatsapp - iPad Version :  5060\n",
      "QQ HD :  5058\n",
      "Followers Analysis Tool For Instagram App Free :  4253\n",
      "live.ly - live video streaming :  4145\n",
      "Houseparty - Group Video Chat :  3991\n",
      "SOMA Messenger :  3232\n",
      "Monkey :  3060\n",
      "Down To Lunch :  2535\n",
      "Flinch - Video Chat Staring Contest :  2134\n",
      "Highrise - Your Avatar Community :  2011\n",
      "LOVOO - Dating Chat :  1985\n",
      "PlayStation®Messages :  1918\n",
      "BOO! - Video chat camera with filters & stickers :  1805\n",
      "Qzone :  1649\n",
      "Chatous - Chat with new people :  1609\n",
      "Kiwi - Q&A :  1538\n",
      "GhostCodes - a discovery app for Snapchat :  1313\n",
      "Jodel :  1193\n",
      "FireChat :  1037\n",
      "Google Duo - simple video calling :  1033\n",
      "Fiesta by Tango - Chat & Meet New People :  885\n",
      "Google Allo — smart messaging :  862\n",
      "Peach — share vividly :  727\n",
      "Hey! VINA - Where Women Meet New Friends :  719\n",
      "Battlefield™ Companion :  689\n",
      "All Devices for WhatsApp - Messenger for iPad :  682\n",
      "Chat for Pokemon Go - GoChat :  500\n",
      "IAmNaughty – Dating App to Meet New People Online :  463\n",
      "Qzone HD :  458\n",
      "Zenly - Locate your friends in realtime :  427\n",
      "League of Legends Friends :  420\n",
      "豆瓣 :  407\n",
      "Candid - Speak Your Mind Freely :  398\n",
      "知乎 :  397\n",
      "Selfeo :  366\n",
      "Fake-A-Location Free ™ :  354\n",
      "Popcorn Buzz - Free Group Calls :  281\n",
      "Fam — Group video calling for iMessage :  279\n",
      "QQ International :  274\n",
      "Ameba :  269\n",
      "SoundCloud Pulse: for creators :  240\n",
      "Tantan :  235\n",
      "Cougar Dating & Life Style App for Mature Women :  213\n",
      "Rawr Messenger - Dab your chat :  180\n",
      "WhenToPost: Best Time to Post Photos for Instagram :  158\n",
      "Inke—Broadcast an amazing life :  147\n",
      "Mustknow - anonymous video Q&A :  53\n",
      "CTFxCmoji :  39\n",
      "Lobi :  36\n",
      "Chain: Collaborate On MyVideo Story/Group Video :  35\n",
      "botman - Real time video chat :  7\n",
      "BestieBox :  0\n",
      "MATCH ON LINE chat :  0\n",
      "niconico ch :  0\n",
      "LINE BLOG :  0\n",
      "bit-tube - Live Stream Video Chat :  0\n"
     ]
    }
   ],
   "source": [
    "for app in ios_final:\n",
    "    if app[prime_gen_index] == 'Social Networking':\n",
    "        print(app[1], \": \", app[5])"
   ]
  },
  {
   "cell_type": "code",
   "execution_count": 44,
   "metadata": {
    "collapsed": false
   },
   "outputs": [
    {
     "name": "stdout",
     "output_type": "stream",
     "text": [
      "Waze - GPS Navigation, Maps & Real-time Traffic :  345046\n",
      "Google Maps - Navigation & Transit :  154911\n",
      "Geocaching® :  12811\n",
      "CoPilot GPS – Car Navigation & Offline Maps :  3582\n",
      "ImmobilienScout24: Real Estate Search in Germany :  187\n",
      "Railway Route Search :  5\n"
     ]
    }
   ],
   "source": [
    "for app in ios_final:\n",
    "    if app[prime_gen_index] == 'Navigation':\n",
    "        print(app[1], \": \", app[5])"
   ]
  },
  {
   "cell_type": "code",
   "execution_count": 41,
   "metadata": {
    "collapsed": false
   },
   "outputs": [
    {
     "name": "stdout",
     "output_type": "stream",
     "text": [
      "Bible :  985920\n",
      "Dictionary.com Dictionary & Thesaurus :  200047\n",
      "Dictionary.com Dictionary & Thesaurus for iPad :  54175\n",
      "Google Translate :  26786\n",
      "Muslim Pro: Ramadan 2017 Prayer Times, Azan, Quran :  18418\n",
      "New Furniture Mods - Pocket Wiki & Game Tools for Minecraft PC Edition :  17588\n",
      "Merriam-Webster Dictionary :  16849\n",
      "Night Sky :  12122\n",
      "City Maps for Minecraft PE - The Best Maps for Minecraft Pocket Edition (MCPE) :  8535\n",
      "LUCKY BLOCK MOD ™ for Minecraft PC Edition - The Best Pocket Wiki & Mods Installer Tools :  4693\n",
      "GUNS MODS for Minecraft PC Edition - Mods Tools :  1497\n",
      "Guides for Pokémon GO - Pokemon GO News and Cheats :  826\n",
      "WWDC :  762\n",
      "Horror Maps for Minecraft PE - Download The Scariest Maps for Minecraft Pocket Edition (MCPE) Free :  718\n",
      "VPN Express :  14\n",
      "Real Bike Traffic Rider Virtual Reality Glasses :  8\n",
      "教えて!goo :  0\n",
      "Jishokun-Japanese English Dictionary & Translator :  0\n"
     ]
    }
   ],
   "source": [
    "for app in ios_final:\n",
    "    if app[prime_gen_index] == 'Reference':\n",
    "        print(app[1], \": \", app[5])"
   ]
  },
  {
   "cell_type": "markdown",
   "metadata": {},
   "source": [
    "**Conclusion: ** Judging by accuired data we can see, that despite Soial networking and Navigation apps are at the top, the market is dominated by well known names, whereas Refrence genre looks more promising. Any guide or tech book can be converted into an app fromat with added features, which would fit this category."
   ]
  },
  {
   "cell_type": "markdown",
   "metadata": {},
   "source": [
    "# Most Popular Apps by Genre on the Play Store"
   ]
  },
  {
   "cell_type": "code",
   "execution_count": 61,
   "metadata": {
    "collapsed": false
   },
   "outputs": [
    {
     "name": "stdout",
     "output_type": "stream",
     "text": [
      "NEWS_AND_MAGAZINES :  9549178.467741935\n",
      "MAPS_AND_NAVIGATION :  4056941.7741935486\n",
      "FINANCE :  1387692.475609756\n",
      "MEDICAL :  120550.61980830671\n",
      "HEALTH_AND_FITNESS :  4188821.9853479853\n",
      "PRODUCTIVITY :  16787331.344927534\n",
      "HOUSE_AND_HOME :  1331540.5616438356\n",
      "TRAVEL_AND_LOCAL :  13984077.710144928\n",
      "LIBRARIES_AND_DEMO :  638503.734939759\n",
      "EDUCATION :  1833495.145631068\n",
      "SHOPPING :  7036877.311557789\n",
      "FAMILY :  3695641.8198090694\n",
      "COMICS :  817657.2727272727\n",
      "TOOLS :  10801391.298666667\n",
      "GAME :  15588015.603248259\n",
      "AUTO_AND_VEHICLES :  647317.8170731707\n",
      "PARENTING :  542603.6206896552\n",
      "WEATHER :  5074486.197183099\n",
      "COMMUNICATION :  38456119.167247385\n",
      "PERSONALIZATION :  5201482.6122448975\n",
      "BEAUTY :  513151.88679245283\n",
      "SPORTS :  3638640.1428571427\n",
      "BOOKS_AND_REFERENCE :  8767811.894736841\n",
      "BUSINESS :  1712290.1474201474\n",
      "ENTERTAINMENT :  11640705.88235294\n",
      "DATING :  854028.8303030303\n",
      "SOCIAL :  23253652.127118643\n",
      "FOOD_AND_DRINK :  1924897.7363636363\n",
      "LIFESTYLE :  1437816.2687861272\n",
      "ART_AND_DESIGN :  1986335.0877192982\n",
      "PHOTOGRAPHY :  17840110.40229885\n",
      "VIDEO_PLAYERS :  24727872.452830188\n",
      "EVENTS :  253542.22222222222\n"
     ]
    }
   ],
   "source": [
    "gen_index = google_play_header.index('Category')\n",
    "genre_freq = freq_table(android_final, gen_index)\n",
    "\n",
    "for genre in genre_freq:\n",
    "    total = 0\n",
    "    len_genre = 0\n",
    "    for app in android_final:\n",
    "        genre_app = app[gen_index]\n",
    "        if genre_app == genre:\n",
    "            str_total = app[google_play_header.index('Installs')].replace('+','') \n",
    "            str_total = str_total.replace(',','')\n",
    "            total += float(str_total)\n",
    "            len_genre += 1\n",
    "    avg_total = total/len_genre\n",
    "#     if(20000000 > avg_total > 10000000):\n",
    "    print(genre, \": \", avg_total)"
   ]
  },
  {
   "cell_type": "code",
   "execution_count": 56,
   "metadata": {
    "collapsed": false
   },
   "outputs": [
    {
     "name": "stdout",
     "output_type": "stream",
     "text": [
      "WhatsApp Messenger :  1,000,000,000+\n",
      "Messenger for SMS :  10,000,000+\n",
      "My Tele2 :  5,000,000+\n",
      "imo beta free calls and text :  100,000,000+\n",
      "Contacts :  50,000,000+\n",
      "Call Free – Free Call :  5,000,000+\n",
      "Web Browser & Explorer :  5,000,000+\n",
      "Browser 4G :  10,000,000+\n",
      "MegaFon Dashboard :  10,000,000+\n",
      "ZenUI Dialer & Contacts :  10,000,000+\n",
      "Cricket Visual Voicemail :  10,000,000+\n",
      "TracFone My Account :  1,000,000+\n",
      "Xperia Link™ :  10,000,000+\n",
      "TouchPal Keyboard - Fun Emoji & Android Keyboard :  10,000,000+\n",
      "Skype Lite - Free Video Call & Chat :  5,000,000+\n",
      "My magenta :  1,000,000+\n",
      "Android Messages :  100,000,000+\n",
      "Google Duo - High Quality Video Calls :  500,000,000+\n",
      "Seznam.cz :  1,000,000+\n",
      "Antillean Gold Telegram (original version) :  100,000+\n",
      "AT&T Visual Voicemail :  10,000,000+\n",
      "GMX Mail :  10,000,000+\n",
      "Omlet Chat :  10,000,000+\n",
      "My Vodacom SA :  5,000,000+\n",
      "Microsoft Edge :  5,000,000+\n",
      "Messenger – Text and Video Chat for Free :  1,000,000,000+\n",
      "imo free video calls and chat :  500,000,000+\n",
      "Calls & Text by Mo+ :  5,000,000+\n",
      "free video calls and chat :  50,000,000+\n",
      "Skype - free IM & video calls :  1,000,000,000+\n",
      "Who :  100,000,000+\n",
      "GO SMS Pro - Messenger, Free Themes, Emoji :  100,000,000+\n",
      "Messaging+ SMS, MMS Free :  1,000,000+\n",
      "chomp SMS :  10,000,000+\n",
      "Glide - Video Chat Messenger :  10,000,000+\n",
      "Text SMS :  10,000,000+\n",
      "Talkray - Free Calls & Texts :  10,000,000+\n",
      "LINE: Free Calls & Messages :  500,000,000+\n",
      "GroupMe :  10,000,000+\n",
      "mysms SMS Text Messaging Sync :  1,000,000+\n",
      "2ndLine - Second Phone Number :  1,000,000+\n",
      "Google Chrome: Fast & Secure :  1,000,000,000+\n",
      "Firefox Browser fast & private :  100,000,000+\n",
      "Ninesky Browser :  1,000,000+\n",
      "Dolphin Browser - Fast, Private & Adblock🐬 :  50,000,000+\n",
      "UC Browser - Fast Download Private & Secure :  500,000,000+\n",
      "Ghostery Privacy Browser :  1,000,000+\n",
      "InBrowser - Incognito Browsing :  1,000,000+\n",
      "Lightning Web Browser :  500,000+\n",
      "Web Browser :  500,000+\n",
      "Contacts+ :  10,000,000+\n",
      "ExDialer - Dialer & Contacts :  10,000,000+\n",
      "PHONE for Google Voice & GTalk :  1,000,000+\n",
      "Safest Call Blocker :  1,000,000+\n",
      "Full Screen Caller ID :  5,000,000+\n",
      "Hiya - Caller ID & Block :  10,000,000+\n",
      "Mr. Number-Block calls & spam :  10,000,000+\n",
      "Should I Answer? :  1,000,000+\n",
      "RocketDial Dialer & Contacts :  1,000,000+\n",
      "CIA - Caller ID & Call Blocker :  5,000,000+\n",
      "Calls Blacklist - Call Blocker :  10,000,000+\n",
      "Call Control - Call Blocker :  5,000,000+\n",
      "True Contact - Real Caller ID :  1,000,000+\n",
      "Video Caller Id :  1,000,000+\n",
      "Sync.ME – Caller ID & Block :  5,000,000+\n",
      "Burner - Free Phone Number :  1,000,000+\n",
      "Caller ID + :  1,000,000+\n",
      "Gmail :  1,000,000,000+\n",
      "K-9 Mail :  5,000,000+\n",
      "myMail – Email for Hotmail, Gmail and Outlook Mail :  10,000,000+\n",
      "Email TypeApp - Mail App :  1,000,000+\n",
      "All Email Providers :  1,000,000+\n",
      "Newton Mail - Email App for Gmail, Outlook, IMAP :  1,000,000+\n",
      "GO Notifier :  10,000,000+\n",
      "Mail.Ru - Email App :  50,000,000+\n",
      "Mail1Click - Secure Mail :  10,000+\n",
      "Daum Mail - Next Mail :  5,000,000+\n",
      "mail.com mail :  1,000,000+\n",
      "SolMail - All-in-One email app :  500,000+\n",
      "Hangouts :  1,000,000,000+\n",
      "Vonage Mobile® Call Video Text :  1,000,000+\n",
      "JusTalk - Free Video Calls and Fun Video Chat :  5,000,000+\n",
      "Azar :  50,000,000+\n",
      "LokLok: Draw on a Lock Screen :  500,000+\n",
      "Discord - Chat for Gamers :  10,000,000+\n",
      "Messenger Lite: Free Calls & Messages :  100,000,000+\n",
      "AntennaPict β :  1,000,000+\n",
      "Talkatone: Free Texts, Calls & Phone Number :  10,000,000+\n",
      "Kik :  100,000,000+\n",
      "K-@ Mail - Email App :  100,000+\n",
      "KakaoTalk: Free Calls & Text :  100,000,000+\n",
      "K-9 Material (unofficial) :  5,000+\n",
      "M star Dialer :  100,000+\n",
      "Free WiFi Connect :  10,000,000+\n",
      "m:go BiH :  10,000+\n",
      "N-Com Wizard :  50,000+\n",
      "Opera Mini - fast web browser :  100,000,000+\n",
      "Opera Browser: Fast and Secure :  100,000,000+\n",
      "Opera Mini browser beta :  10,000,000+\n",
      "Psiphon Pro - The Internet Freedom VPN :  10,000,000+\n",
      "ICQ — Video Calls & Chat Messenger :  10,000,000+\n",
      "Telegram :  100,000,000+\n",
      "AT&T Messages for Tablet :  1,000,000+\n",
      "T-Mobile DIGITS :  100,000+\n",
      "Truecaller: Caller ID, SMS spam blocking & Dialer :  100,000,000+\n",
      "Portable Wi-Fi hotspot :  10,000,000+\n",
      "AT&T Call Protect :  5,000,000+\n",
      "U - Webinars, Meetings & Messenger :  500,000+\n",
      "UC Browser Mini -Tiny Fast Private & Secure :  100,000,000+\n",
      "/u/app :  10,000+\n",
      "[verify-U] VideoIdent :  10,000+\n",
      "Viber Messenger :  500,000,000+\n",
      "WeChat :  100,000,000+\n",
      "WhatsApp Business :  10,000,000+\n",
      "WhatsCall Free Global Phone Call App & Cheap Calls :  10,000,000+\n",
      "X Browser :  50,000+\n",
      "Yahoo Mail – Stay Organized :  100,000,000+\n",
      "Free Adblocker Browser - Adblock & Popup Blocker :  10,000,000+\n",
      "Adblock Browser for Android :  10,000,000+\n",
      "CM Browser - Ad Blocker , Fast Download , Privacy :  50,000,000+\n",
      "Adblock Plus for Samsung Internet - Browse safe. :  1,000,000+\n",
      "Ad Blocker Turbo - Adblocker Browser :  10,000+\n",
      "Brave Browser: Fast AdBlocker :  5,000,000+\n",
      "AG Contacts, Lite edition :  5,000+\n",
      "Oklahoma Ag Co-op Council :  10+\n",
      "Bee'ah Employee App :  100+\n",
      "tournaments and more.aj.2 :  100+\n",
      "Aj.Petra :  100+\n",
      "AK Phone :  5,000+\n",
      "PlacarTv Futebol Ao Vivo :  100,000+\n",
      "WiFi Access Point (hotspot) :  100,000+\n",
      "Access Point Names :  10,000+\n",
      "Puffin Web Browser :  10,000,000+\n",
      "ClanHQ :  10,000+\n",
      "Ear Agent: Super Hearing :  5,000,000+\n",
      "Google Voice :  10,000,000+\n",
      "Google Allo :  10,000,000+\n",
      "AU Call Blocker - Block Unwanted Calls Texts 2018 :  1,000+\n",
      "Baby Monitor AV :  100,000+\n",
      "AV Phone :  1,000+\n",
      "AW - free video calls and chat :  1,000,000+\n",
      "Katalogen.ax :  100+\n",
      "AZ Browser. Private & Download :  100,000+\n",
      "BA SALES :  1+\n",
      "BD Data Plan (3G & 4G) :  500,000+\n",
      "BD Internet Packages (Updated) :  50,000+\n",
      "BD Dialer :  10,000+\n",
      "BD Live Call :  5,000+\n",
      "Best Browser BD social networking :  10+\n",
      "Traffic signs BD :  500+\n",
      "BF Browser by Betfilter - Stop Gambling Today! :  10,000+\n",
      "My BF App :  50,000+\n",
      "BH Mail :  1,000+\n",
      "Zalo – Video Call :  50,000,000+\n",
      "BJ - Confidential :  10+\n",
      "BK Chat :  1,000+\n",
      "Of the wall Arapaho bk :  5+\n",
      "AC-BL :  50+\n",
      "BBM - Free Calls & Messages :  100,000,000+\n",
      "DMR BrandMeister Tool :  10,000+\n",
      "BBMoji - Your personalized BBM Stickers :  1,000,000+\n",
      "BN MALLORCA Radio :  1,000+\n",
      "BQ Partners :  1,000+\n",
      "BS-Mobile :  50+\n",
      "ATC Unico BS :  500+\n",
      "BT One Voice mobile access :  5,000+\n",
      "BT Messenger :  50,000+\n",
      "BT One Phone Mobile App :  10,000+\n",
      "SW-100.tch by Callstel :  1,000,000+\n",
      "BT MeetMe with Dolby Voice :  100,000+\n",
      "Bluetooth Auto Connect :  5,000,000+\n",
      "AudioBT: BT audio GPS/SMS/Text :  50,000+\n",
      "BV :  100+\n",
      "Feel Performer :  10,000+\n",
      "Tiny Call Confirm :  1,000,000+\n",
      "CB Radio Chat - for friends! :  1,000,000+\n",
      "CB On Mobile :  100,000+\n",
      "Virtual Walkie Talkie :  1,000,000+\n",
      "Channel 19 :  100,000+\n",
      "Cb browser :  50+\n",
      "CF Chat: Connecting Friends :  100+\n",
      "retteMi.ch :  5,000+\n",
      "Chrome Dev :  5,000,000+\n",
      "CJ Browser - Fast & Private :  100+\n",
      "CJ DVD Rentals :  100+\n",
      "CK Call NEW :  10+\n",
      "CM Transfer - Share any files with friends nearby :  5,000,000+\n",
      "mail.co.uk Mail :  5,000+\n",
      "ClanPlay: Community and Tools for Gamers :  1,000,000+\n",
      "CQ-Mobile :  1,000+\n",
      "CQ-Alert :  500+\n",
      "QRZ Assistant :  100,000+\n",
      "Pocket Prefix Plus :  10,000+\n",
      "Ham Radio Prefixes :  10,000+\n",
      "CS Customizer :  1,000+\n",
      "CS Browser | #1 & BEST BROWSER :  1,000+\n",
      "CS Browser Beta :  5,000+\n",
      "My Vodafone (GR) :  1,000,000+\n",
      "IZ2UUF Morse Koch CW :  50,000+\n",
      "C W Browser :  100+\n",
      "CW Bluetooth SPP :  100+\n",
      "CW BLE Peripheral Simulator :  500+\n",
      "Morse Code Reader :  100,000+\n",
      "Learn Morse Code - G0HYN Learn Morse :  5,000+\n",
      "Ring :  10,000+\n",
      "Hyundai CX Conference :  50+\n",
      "Cy Messenger :  100+\n",
      "Amadeus GR & CY :  100+\n",
      "Hlášenírozhlasu.cz :  10+\n",
      "SMS Sender - sluzba.cz :  1,000+\n",
      "WEB.DE Mail :  10,000,000+\n",
      "Your Freedom VPN Client :  5,000,000+\n",
      "CallApp: Caller ID, Blocker & Phone Call Recorder :  10,000,000+\n",
      "Rádio Sol Nascente DF :  500+\n",
      "DG Card :  100+\n",
      "Whoscall - Caller ID & Block :  10,000,000+\n",
      "DK Browser :  10+\n",
      "cluster.dk :  1,000+\n",
      "DK TEL Dialer :  50+\n",
      "DM for WhatsApp :  5,000+\n",
      "DM Talk New :  5,000+\n",
      "DM - The Offical Messaging App :  10+\n",
      "DM Tracker :  1,000+\n",
      "Call Blocker & Blacklist :  1,000+\n",
      "ReadyOp DT :  1,000+\n",
      "DU Browser—Browse fast & fun :  10,000,000+\n",
      "Caller ID & Call Block - DU Caller :  5,000,000+\n",
      "BlueDV AMBE :  1,000+\n",
      "DW Contacts & Phone & Dialer :  1,000,000+\n",
      "Deaf World DW :  10,000+\n",
      "Ham DX Cluster & Spots Finder :  5,000+\n",
      "Mircules DX Cluster Lite :  5,000+\n",
      "3G DZ Configuration :  50,000+\n",
      "chat dz :  100+\n",
      "love sms good morning :  5,000+\n",
      "Goodbox - Mega App :  100,000+\n",
      "Call Blocker - Blacklist, SMS Blocker :  1,000,000+\n",
      "[EF]ShoutBox :  100+\n",
      "Eg Call :  10,000+\n",
      "ei :  10+\n",
      "EJ messenger :  10+\n",
      "Ek IRA :  10+\n",
      "Orfox: Tor Browser for Android :  10,000,000+\n",
      "EO Mumbai :  10+\n",
      "EP RSS Reader :  100+\n",
      "Voxer Walkie Talkie Messenger :  10,000,000+\n",
      "ES-1 :  500+\n",
      "Hangouts Dialer - Call Phones :  10,000,000+\n",
      "EU Council :  1,000+\n",
      "Council Voting Calculator :  5,000+\n",
      "Have your say on Europe :  500+\n",
      "Programi podrške EU :  100+\n",
      "Inbox.eu :  10,000+\n",
      "Web Browser for Android :  1,000,000+\n",
      "Everbridge :  100,000+\n",
      "Best Auto Call Recorder Free :  500+\n",
      "EZ Wifi Notification :  10,000+\n",
      "Test Server SMS FA :  5+\n",
      "Lite for Facebook Messenger :  1,000,000+\n",
      "FC Browser - Focus Privacy Browser :  1,000+\n",
      "EHiN-FH conferenceapp :  100+\n",
      "Carpooling FH Hagenberg :  100+\n",
      "Wi-Fi Auto-connect :  1,000,000+\n",
      "Talkie - Wi-Fi Calling, Chats, File Sharing :  500,000+\n",
      "WeFi - Free Fast WiFi Connect & Find Wi-Fi Map :  1,000,000+\n",
      "Sat-Fi :  5,000+\n",
      "Portable Wi-Fi hotspot Free :  100,000+\n",
      "TownWiFi | Wi-Fi Everywhere :  500,000+\n",
      "Jazz Wi-Fi :  10,000+\n",
      "Sat-Fi Voice :  1,000+\n",
      "Free Wi-fi HotspoT :  50,000+\n",
      "FN Web Radio :  10+\n",
      "FNH Payment Info :  10+\n",
      "MARKET FO :  100+\n",
      "FO OP St-Nazaire :  100+\n",
      "FO SODEXO :  100+\n",
      "FO RCBT :  100+\n",
      "FO Interim :  100+\n",
      "FO PSA Sept-Fons :  100+\n",
      "FO AIRBUS TLSE :  1,000+\n",
      "FO STELIA Méaulte :  100+\n",
      "FO AIRBUS Nantes :  100+\n",
      "Firefox Focus: The privacy browser :  1,000,000+\n",
      "FP Connect :  100+\n",
      "FreedomPop Messaging Phone/SIM :  500,000+\n",
      "FP Live :  10+\n",
      "HipChat - beta version :  50,000+\n"
     ]
    }
   ],
   "source": [
    "for app in android_final:\n",
    "    if app[gen_index] == 'COMMUNICATION':\n",
    "        print(app[0], \": \", app[5])"
   ]
  },
  {
   "cell_type": "code",
   "execution_count": 67,
   "metadata": {
    "collapsed": false
   },
   "outputs": [
    {
     "name": "stdout",
     "output_type": "stream",
     "text": [
      "Book store :  1,000,000+\n",
      "Free Books - Spirit Fanfiction and Stories :  1,000,000+\n",
      "AlReader -any text book reader :  5,000,000+\n",
      "FamilySearch Tree :  1,000,000+\n",
      "Cloud of Books :  1,000,000+\n",
      "ReadEra – free ebook reader :  1,000,000+\n",
      "Ebook Reader :  5,000,000+\n",
      "Read books online :  5,000,000+\n",
      "eBoox: book reader fb2 epub zip :  1,000,000+\n",
      "All Maths Formulas :  1,000,000+\n",
      "Ancestry :  5,000,000+\n",
      "English-Myanmar Dictionary :  1,000,000+\n",
      "Golden Dictionary (EN-AR) :  1,000,000+\n",
      "All Language Translator Free :  1,000,000+\n",
      "Dictionary - WordWeb :  5,000,000+\n",
      "50000 Free eBooks & Free AudioBooks :  5,000,000+\n",
      "Al Quran Al karim :  1,000,000+\n",
      "Al Quran : EAlim - Translations & MP3 Offline :  5,000,000+\n",
      "Koran Read &MP3 30 Juz Offline :  1,000,000+\n",
      "Hafizi Quran 15 lines per page :  1,000,000+\n",
      "Satellite AR :  1,000,000+\n",
      "Oxford A-Z of English Usage :  1,000,000+\n",
      "Bible KJV :  5,000,000+\n",
      "Brilliant Quotes: Life, Love, Family & Motivation :  1,000,000+\n",
      "Stats Royale for Clash Royale :  1,000,000+\n",
      "wikiHow: how to do anything :  1,000,000+\n",
      "EGW Writings :  1,000,000+\n",
      "My Little Pony AR Guide :  1,000,000+\n",
      "English to Hindi Dictionary :  5,000,000+\n"
     ]
    }
   ],
   "source": [
    "for app in android_final:\n",
    "    if app[gen_index] == 'BOOKS_AND_REFERENCE' and (app[5] == '5,000,000+' or app[5] == '1,000,000+'):\n",
    "        print(app[0], \": \", app[5])"
   ]
  },
  {
   "cell_type": "markdown",
   "metadata": {},
   "source": [
    "**Conclusion: ** Same thing is prevalent here as in app store : social, communication and navigation application, as well as video players are on top, but the statistics are scewed by tech giants like google and michrosoft. If we take a look at the book and Reference genre on the other hand the distribution is more or less even across all kinds of applications. It seems book readers and books converted  "
   ]
  }
 ],
 "metadata": {
  "kernelspec": {
   "display_name": "Python 3",
   "language": "python",
   "name": "python3"
  },
  "language_info": {
   "codemirror_mode": {
    "name": "ipython",
    "version": 3
   },
   "file_extension": ".py",
   "mimetype": "text/x-python",
   "name": "python",
   "nbconvert_exporter": "python",
   "pygments_lexer": "ipython3",
   "version": "3.4.3"
  }
 },
 "nbformat": 4,
 "nbformat_minor": 2
}
