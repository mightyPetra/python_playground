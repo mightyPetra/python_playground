{
  "nbformat": 4,
  "nbformat_minor": 0,
  "metadata": {
    "colab": {
      "name": "HackerNewsProject.ipynb",
      "provenance": [],
      "collapsed_sections": [],
      "authorship_tag": "ABX9TyMRHbaA2twc+yZt1iwcbE4x",
      "include_colab_link": true
    },
    "kernelspec": {
      "name": "python3",
      "display_name": "Python 3"
    }
  },
  "cells": [
    {
      "cell_type": "markdown",
      "metadata": {
        "id": "view-in-github",
        "colab_type": "text"
      },
      "source": [
        "<a href=\"https://colab.research.google.com/github/mightyPetra/python_playground/blob/master/HackerNewsProject.ipynb\" target=\"_parent\"><img src=\"https://colab.research.google.com/assets/colab-badge.svg\" alt=\"Open In Colab\"/></a>"
      ]
    },
    {
      "cell_type": "markdown",
      "metadata": {
        "id": "sxX0EBMlXzpi",
        "colab_type": "text"
      },
      "source": [
        "# Exploring Hacker News Posts\n"
      ]
    },
    {
      "cell_type": "markdown",
      "metadata": {
        "id": "owOTXbjuX3kO",
        "colab_type": "text"
      },
      "source": [
        "Hacker news is a message board similar to reddit, where user created content can be voted and commented on. In this project we will be analyzing user posted stories, specifically posts whose titles begin with either Ask HN or Show HN. Users submit Ask HN posts to ask the Hacker News community a specific question. Likewise, users submit Show HN posts to show the Hacker News community a project, product, or just generally something interesting. Concretely, we are interested in following difference between the two:\n",
        "\n",
        "* Do Ask HN or Show HN receive more comments on average?\n",
        "* Do posts created at a certain time receive more comments on average?"
      ]
    },
    {
      "cell_type": "markdown",
      "metadata": {
        "id": "897ZiasnX7Nn",
        "colab_type": "text"
      },
      "source": [
        "###1. First, let's load the data\n",
        "\n",
        "[dataset documentation](https://www.kaggle.com/hacker-news/hacker-news-posts) can be found here"
      ]
    },
    {
      "cell_type": "code",
      "metadata": {
        "id": "hl6tELo-YVq9",
        "colab_type": "code",
        "colab": {
          "base_uri": "https://localhost:8080/",
          "height": 122
        },
        "outputId": "d546cbc7-b1f5-4aa5-b1f6-f47eedb71ec1"
      },
      "source": [
        "from google.colab import drive\n",
        "drive.mount('/content/drive')"
      ],
      "execution_count": 3,
      "outputs": [
        {
          "output_type": "stream",
          "text": [
            "Go to this URL in a browser: https://accounts.google.com/o/oauth2/auth?client_id=947318989803-6bn6qk8qdgf4n4g3pfee6491hc0brc4i.apps.googleusercontent.com&redirect_uri=urn%3aietf%3awg%3aoauth%3a2.0%3aoob&response_type=code&scope=email%20https%3a%2f%2fwww.googleapis.com%2fauth%2fdocs.test%20https%3a%2f%2fwww.googleapis.com%2fauth%2fdrive%20https%3a%2f%2fwww.googleapis.com%2fauth%2fdrive.photos.readonly%20https%3a%2f%2fwww.googleapis.com%2fauth%2fpeopleapi.readonly\n",
            "\n",
            "Enter your authorization code:\n",
            "··········\n",
            "Mounted at /content/drive\n"
          ],
          "name": "stdout"
        }
      ]
    },
    {
      "cell_type": "code",
      "metadata": {
        "id": "YsUcVgHmYCGQ",
        "colab_type": "code",
        "colab": {
          "base_uri": "https://localhost:8080/",
          "height": 71
        },
        "outputId": "20013f53-4ca7-4c69-ce89-8092235b8851"
      },
      "source": [
        "from csv import reader\n",
        "\n",
        "file = open('/content/drive/My Drive/Colab Notebooks/hacker_news.csv')\n",
        "parsed_file = reader(file)\n",
        "hn = list(parsed_file)\n",
        "\n",
        "header = hn[0]\n",
        "hn = hn[1:]\n",
        "\n",
        "print(header)\n",
        "print(hn[:6])"
      ],
      "execution_count": 17,
      "outputs": [
        {
          "output_type": "stream",
          "text": [
            "['id', 'title', 'url', 'num_points', 'num_comments', 'author', 'created_at']\n",
            "[['12224879', 'Interactive Dynamic Video', 'http://www.interactivedynamicvideo.com/', '386', '52', 'ne0phyte', '8/4/2016 11:52'], ['10975351', 'How to Use Open Source and Shut the Fuck Up at the Same Time', 'http://hueniverse.com/2016/01/26/how-to-use-open-source-and-shut-the-fuck-up-at-the-same-time/', '39', '10', 'josep2', '1/26/2016 19:30'], ['11964716', \"Florida DJs May Face Felony for April Fools' Water Joke\", 'http://www.thewire.com/entertainment/2013/04/florida-djs-april-fools-water-joke/63798/', '2', '1', 'vezycash', '6/23/2016 22:20'], ['11919867', 'Technology ventures: From Idea to Enterprise', 'https://www.amazon.com/Technology-Ventures-Enterprise-Thomas-Byers/dp/0073523429', '3', '1', 'hswarna', '6/17/2016 0:01'], ['10301696', 'Note by Note: The Making of Steinway L1037 (2007)', 'http://www.nytimes.com/2007/11/07/movies/07stein.html?_r=0', '8', '2', 'walterbell', '9/30/2015 4:12'], ['10482257', 'Title II kills investment? Comcast and other ISPs are now spending more', 'http://arstechnica.com/business/2015/10/comcast-and-other-isps-boost-network-investment-despite-net-neutrality/', '53', '22', 'Deinos', '10/31/2015 9:48']]\n"
          ],
          "name": "stdout"
        }
      ]
    },
    {
      "cell_type": "markdown",
      "metadata": {
        "id": "mjL7n-OcaJIb",
        "colab_type": "text"
      },
      "source": [
        "### 2. Now sort the posts by their titles, to separate *Ask NH*, *Show HN* and all the other posts"
      ]
    },
    {
      "cell_type": "code",
      "metadata": {
        "id": "6NK2WzugaVsR",
        "colab_type": "code",
        "colab": {
          "base_uri": "https://localhost:8080/",
          "height": 68
        },
        "outputId": "f70877bb-1dfc-4075-ee87-43469e2357c4"
      },
      "source": [
        "ask_posts = []\n",
        "show_posts = []\n",
        "other_posts = []\n",
        "\n",
        "for post in hn:\n",
        "  title = post[1].lower()\n",
        "  if title.startswith('ask hn'):\n",
        "    ask_posts.append(post)\n",
        "  elif title.startswith('show hn'):\n",
        "    show_posts.append(post)\n",
        "  else:\n",
        "    other_posts.append(post)\n",
        "\n",
        "print(f'Ask HN posts: {len(ask_posts)}',  f'Show HN posts: {len(show_posts)}', f'Ask HN posts: {len(other_posts)}', sep = '\\n')"
      ],
      "execution_count": 11,
      "outputs": [
        {
          "output_type": "stream",
          "text": [
            "Ask HN posts: 1744\n",
            "Show HN posts: 1162\n",
            "Ask HN posts: 17194\n"
          ],
          "name": "stdout"
        }
      ]
    },
    {
      "cell_type": "markdown",
      "metadata": {
        "id": "5ANvM7wjdU20",
        "colab_type": "text"
      },
      "source": [
        "### 3. Now let's determine whether *Ask NH* or *Show NH* receiver more comments on average"
      ]
    },
    {
      "cell_type": "code",
      "metadata": {
        "id": "M8OWmpdddOEk",
        "colab_type": "code",
        "colab": {
          "base_uri": "https://localhost:8080/",
          "height": 51
        },
        "outputId": "11e4bd41-b6df-4465-d2bf-195ab41f79eb"
      },
      "source": [
        "def total_comment_count(list_of_posts):\n",
        "  total_comments = 0\n",
        "  for p in list_of_posts:\n",
        "    comment_count = int(p[4])\n",
        "    total_comments += comment_count\n",
        "  return total_comments\n",
        "\n",
        "def average_comment_count(list_of_posts):\n",
        "  total = total_comment_count(list_of_posts)\n",
        "  return total/len(list_of_posts)\n",
        "\n",
        "\n",
        "total_ask_comments = total_comment_count(ask_posts)\n",
        "total_show_comments = total_comment_count(show_posts)\n",
        "\n",
        "avg_ask_comments = average_comment_count(ask_posts)\n",
        "avg_show_comments = average_comment_count(show_posts)\n",
        "\n",
        "print('Average Ask HN comment count:', avg_ask_comments)\n",
        "print('Average Show HN comment count:', avg_show_comments)\n"
      ],
      "execution_count": 15,
      "outputs": [
        {
          "output_type": "stream",
          "text": [
            "Average Ask HN comment count: 14.038417431192661\n",
            "Average Show HN comment count: 10.31669535283993\n"
          ],
          "name": "stdout"
        }
      ]
    },
    {
      "cell_type": "markdown",
      "metadata": {
        "id": "nkrEyn2Tggpi",
        "colab_type": "text"
      },
      "source": [
        "> 3.1 As can be seen from the result of calculating averages of comments for both post types, *Ask HN* posts receive more comments, whic makes sense from the common sense perspective, since these posts contain questions. Since this is the case, we will focus our analysis on *Ask HN* posts."
      ]
    },
    {
      "cell_type": "markdown",
      "metadata": {
        "id": "O_kf_cmHzAwx",
        "colab_type": "text"
      },
      "source": [
        "### 4. Next we will determne whether posts made at a certain time of are more likely to receive comments. For that let's calculate the amount of ask posts created per hour, along with the total amount of comments.\n",
        "\n",
        "> * counts_by_hour: contains the number of ask posts created during each hour of the day.\n",
        "* comments_by_hour: contains the corresponding number of comments ask posts created at each hour received."
      ]
    },
    {
      "cell_type": "code",
      "metadata": {
        "id": "DVEd_Rmug6Nz",
        "colab_type": "code",
        "colab": {
          "base_uri": "https://localhost:8080/",
          "height": 51
        },
        "outputId": "29fd0fea-ef86-43db-e0c2-c5a36e9eb472"
      },
      "source": [
        "import datetime as dt\n",
        "\n",
        "result_list = []\n",
        "\n",
        "for post in ask_posts:\n",
        "  posted_at = post[6]\n",
        "  num_comments = int(post[4])\n",
        "  result_list.append([posted_at, num_comments])\n",
        "\n",
        "post_count_by_hour = {}\n",
        "comment_count_by_hour = {}\n",
        "\n",
        "for r in result_list:\n",
        "  # date format => 8/4/2016 11:52\n",
        "  date_time = dt.datetime.strptime(r[0], '%m/%d/%Y %H:%M')\n",
        "  hr_posted = dt.datetime.strftime(date_time, \"%H\")\n",
        "  comment_count = r[1]\n",
        "\n",
        "  if hr_posted in post_count_by_hour:\n",
        "    post_count_by_hour[hr_posted] += 1\n",
        "    comment_count_by_hour[hr_posted] += comment_count\n",
        "  else:\n",
        "    post_count_by_hour[hr_posted] = 1\n",
        "    comment_count_by_hour[hr_posted] = comment_count\n",
        "\n",
        "print('Overall max post count:', max(post_count_by_hour.items()))\n",
        "print('Overall max comment count:', max(comment_count_by_hour.items()))\n"
      ],
      "execution_count": 70,
      "outputs": [
        {
          "output_type": "stream",
          "text": [
            "Overall max post count: ('23', 68)\n",
            "Overall max comment count: ('23', 543)\n"
          ],
          "name": "stdout"
        }
      ]
    },
    {
      "cell_type": "markdown",
      "metadata": {
        "id": "2zqobG9Gpshj",
        "colab_type": "text"
      },
      "source": [
        "### 5. Now, let's calcualte average comment count per post for each hour"
      ]
    },
    {
      "cell_type": "code",
      "metadata": {
        "id": "-8dnk-DXq5ZI",
        "colab_type": "code",
        "colab": {
          "base_uri": "https://localhost:8080/",
          "height": 119
        },
        "outputId": "4822438c-3bab-4176-e678-51843a1d4e37"
      },
      "source": [
        "avg_by_hour = []\n",
        "\n",
        "for hour, comment_count in comment_count_by_hour.items():\n",
        "   avg_comment_count = comment_count/post_count_by_hour[hour]\n",
        "   avg_by_hour.append([avg_comment_count, hour])\n",
        "\n",
        "avg_by_hour = sorted(avg_by_hour, reverse=True)\n",
        "\n",
        "print('Top 5 Hours for Ask Posts Comments')\n",
        "for avg in avg_by_hour[:5]:\n",
        "  hour = dt.datetime.strptime(avg[1],'%H').strftime('%H:%M ET')\n",
        "  print(f'{hour} : {avg[0]:.2f} average comments per post')"
      ],
      "execution_count": 86,
      "outputs": [
        {
          "output_type": "stream",
          "text": [
            "Top 5 Hours for Ask Posts Comments\n",
            "15:00 ET : 38.59 average comments per post\n",
            "02:00 ET : 23.81 average comments per post\n",
            "20:00 ET : 21.52 average comments per post\n",
            "16:00 ET : 16.80 average comments per post\n",
            "21:00 ET : 16.01 average comments per post\n"
          ],
          "name": "stdout"
        }
      ]
    },
    {
      "cell_type": "code",
      "metadata": {
        "id": "OTVHEnFl29xQ",
        "colab_type": "code",
        "colab": {
          "base_uri": "https://localhost:8080/",
          "height": 119
        },
        "outputId": "e4356b9a-8a2e-4152-f8ae-c17e00c0ed2a"
      },
      "source": [
        "print('Top 5 Hours for Ask Posts Comments (UTC)')\n",
        "for avg in avg_by_hour[:5]:\n",
        "  delta = dt.datetime.utcoffset(dt.datetime.now(timezone('US/Eastern')))\n",
        "  hour = (dt.datetime.strptime(avg[1],'%H')+delta).strftime('%H:%M UTC')\n",
        "  print(f'{hour} : {avg[0]:.2f} average comments per post')"
      ],
      "execution_count": 103,
      "outputs": [
        {
          "output_type": "stream",
          "text": [
            "Top 5 Hours for Ask Posts Comments (UTC)\n",
            "10:00 UTC : 38.59 average comments per post\n",
            "21:00 UTC : 23.81 average comments per post\n",
            "15:00 UTC : 21.52 average comments per post\n",
            "11:00 UTC : 16.80 average comments per post\n",
            "16:00 UTC : 16.01 average comments per post\n"
          ],
          "name": "stdout"
        }
      ]
    },
    {
      "cell_type": "markdown",
      "metadata": {
        "id": "pf3NBUjUzKGz",
        "colab_type": "text"
      },
      "source": [
        "### Conclusions\n",
        "\n",
        "From data collected we can conclude that *Ask HN* posts will receive most comments if are posted around 15:00, 2:00 and 20:00 ET. \n",
        "Furthermoe when converted into European time we can see that most of activity is concentrated in the morning (10:00) and late evening (21:00). "
      ]
    }
  ]
}