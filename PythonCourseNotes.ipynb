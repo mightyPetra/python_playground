{
  "nbformat": 4,
  "nbformat_minor": 0,
  "metadata": {
    "colab": {
      "name": "PythonCourseNotes.ipynb",
      "provenance": [],
      "collapsed_sections": [],
      "toc_visible": true,
      "authorship_tag": "ABX9TyMWnK05nNKvI5cNdQBqWHYS",
      "include_colab_link": true
    },
    "kernelspec": {
      "name": "python3",
      "display_name": "Python 3"
    }
  },
  "cells": [
    {
      "cell_type": "markdown",
      "metadata": {
        "id": "view-in-github",
        "colab_type": "text"
      },
      "source": [
        "<a href=\"https://colab.research.google.com/github/mightyPetra/python_playground/blob/master/PythonCourseNotes.ipynb\" target=\"_parent\"><img src=\"https://colab.research.google.com/assets/colab-badge.svg\" alt=\"Open In Colab\"/></a>"
      ]
    },
    {
      "cell_type": "markdown",
      "metadata": {
        "id": "2wXSjDOo1ZZa",
        "colab_type": "text"
      },
      "source": [
        "# Developer tips\n",
        " \n",
        "* [better comments](https://realpython.com/python-comments-guide/)\n",
        "* PEP8 - Python style guide\n",
        "* [data science project styling guide](https://www.dataquest.io/blog/data-science-project-style-guide/)\n",
        "* [method resolution order](http://www.srikanthtechnologies.com/blog/python/mro.aspx)\n",
        "\n"
      ]
    },
    {
      "cell_type": "markdown",
      "metadata": {
        "id": "UxT2PCf31ycS",
        "colab_type": "text"
      },
      "source": [
        "#BASICS\n",
        "##Functions vs methods\n",
        "- function **slicing** creates new object (function)\n",
        "- methods modify the existing object and return None. (just like Java)"
      ]
    },
    {
      "cell_type": "markdown",
      "metadata": {
        "id": "wP3_Qkw211_Q",
        "colab_type": "text"
      },
      "source": [
        "##Data types\n",
        "- **dictionary** == map (unordered)\n",
        "- dictionary keys == only immutable objects\n",
        "- dictionary. get (key, default value) \n",
        "- **list** (ordered, id's won't work)\n",
        "- .pop() - removes value by index/key and returns the value.\n",
        "- .popitem() - removes last item from **list**, removes **random (last written)** value from dictionary\n",
        "- .update() - updates existing or creates new\n",
        "- **tuples** - immutable list, faster than list\n",
        "- **set** - unordered collection of unique items, no indexing"
      ]
    },
    {
      "cell_type": "code",
      "metadata": {
        "id": "Ey7sz--AMoHg",
        "colab_type": "code",
        "colab": {}
      },
      "source": [
        "for key, val in dictionary.items():\n",
        "  #automatically assigns each key: value pair to variables key and val (this exists in java8 as well, just learned today lol)\n"
      ],
      "execution_count": 0,
      "outputs": []
    },
    {
      "cell_type": "markdown",
      "metadata": {
        "id": "etLbOiaw173M",
        "colab_type": "text"
      },
      "source": [
        "##Truthy and Falsey\n",
        "- any type can be converted into boolean (bool())\n",
        "- if the type is empty or None => Falsey\n",
        "- everything else => Truthy"
      ]
    },
    {
      "cell_type": "markdown",
      "metadata": {
        "id": "khzT0_vp2Bco",
        "colab_type": "text"
      },
      "source": [
        "##Short circuiting\n",
        "In ternary operator when using two boolean values and or/and logical operator, the compiler can ignore the following statement if first one passes the check.\n",
        "i.e. if true or false -> false will be ignored\n",
        "i.e. if false and true -> true will be ignored"
      ]
    },
    {
      "cell_type": "markdown",
      "metadata": {
        "id": "vVy-_7c82F0R",
        "colab_type": "text"
      },
      "source": [
        "## is vs ==\n",
        "== - equal\n",
        "is - is the same object (same memory block)\n",
        "\n",
        "(opposite to java, where equals() compares content, but == compares objects)"
      ]
    },
    {
      "cell_type": "markdown",
      "metadata": {
        "id": "Z54kFSeW2Pw0",
        "colab_type": "text"
      },
      "source": [
        "##range(x, y, z)\n",
        "returns range of numbers from x to y by step z\n",
        "\n",
        "_ - a non-variable (like int I in for loops)"
      ]
    },
    {
      "cell_type": "code",
      "metadata": {
        "id": "UT3svJab2Zxp",
        "colab_type": "code",
        "colab": {}
      },
      "source": [
        "for _ in range (0, 100):\n",
        "  #do stuff here\n",
        "\n",
        "for _ in range (10, 0, -1):\n",
        "  #will loop in the opposite direction\n",
        "\n",
        "list(range(0,10)) #will produce list of values 0 to 9"
      ],
      "execution_count": 0,
      "outputs": []
    },
    {
      "cell_type": "markdown",
      "metadata": {
        "id": "a5o38GUQ2twE",
        "colab_type": "text"
      },
      "source": [
        "##enumerate()"
      ]
    },
    {
      "cell_type": "code",
      "metadata": {
        "id": "5tLlE0iW2xwA",
        "colab_type": "code",
        "colab": {}
      },
      "source": [
        "for i, item in enumerate(some_iterable):\n",
        "   #*i* return the index of an item\n",
        "   #*item* return item of the iterable"
      ],
      "execution_count": 0,
      "outputs": []
    },
    {
      "cell_type": "markdown",
      "metadata": {
        "id": "blJI1ew826CG",
        "colab_type": "text"
      },
      "source": [
        "##Keyword arguments and default parameters\n",
        "unlike positional args (in functions) you can switch the argument order by explicitly stating which is which:"
      ]
    },
    {
      "cell_type": "code",
      "metadata": {
        "id": "aDPnCnE429zk",
        "colab_type": "code",
        "colab": {}
      },
      "source": [
        "def function(arg1, arg2):\n",
        "  #<do things>\n",
        "  \n",
        "funcion(arg1_val, arg2_val)\n",
        "function(arg2=arg2_val, arg1=arg1_val)"
      ],
      "execution_count": 0,
      "outputs": []
    },
    {
      "cell_type": "markdown",
      "metadata": {
        "id": "56OMrCKD3Gow",
        "colab_type": "text"
      },
      "source": [
        "dault parameters look like this:"
      ]
    },
    {
      "cell_type": "code",
      "metadata": {
        "id": "6cPSNwJr3Hr6",
        "colab_type": "code",
        "colab": {}
      },
      "source": [
        "def func(arg1='arg1', arg2='arg2'):\n",
        "  #<some code here>"
      ],
      "execution_count": 0,
      "outputs": []
    },
    {
      "cell_type": "markdown",
      "metadata": {
        "id": "qCeldtDq3OwC",
        "colab_type": "text"
      },
      "source": [
        "##Nested functions\n",
        "functions can be nested"
      ]
    },
    {
      "cell_type": "code",
      "metadata": {
        "id": "GC1wHuds3UtG",
        "colab_type": "code",
        "colab": {}
      },
      "source": [
        "def func1():\n",
        "  def func2():\n",
        "    return 1\n",
        "  return func2()"
      ],
      "execution_count": 0,
      "outputs": []
    },
    {
      "cell_type": "markdown",
      "metadata": {
        "id": "U3rs-5NI3dRs",
        "colab_type": "text"
      },
      "source": [
        "## Multiple argumanets of the same type"
      ]
    },
    {
      "cell_type": "code",
      "metadata": {
        "id": "jQFAw0Em3hmW",
        "colab_type": "code",
        "colab": {}
      },
      "source": [
        "def super_func(*args): #-> a tuple of arguments passed\n",
        "super_func(1,2,3,4) -> (1,2,3,4)\n",
        "\n",
        "def ultimate_func(**kwargs) ->  a dictionary of arguments\n",
        "ultimate_func(num1=1, num2=2, num3=5) -> {num1: 1, num2: 2, num3: 5}"
      ],
      "execution_count": 0,
      "outputs": []
    },
    {
      "cell_type": "markdown",
      "metadata": {
        "id": "cor2qs_B30_C",
        "colab_type": "text"
      },
      "source": [
        "##Global and nonlocal\n",
        "specify variable scope with these keywords. \n",
        "\n",
        " *global* - defined outside the scope of function\n",
        " *nonlocal* - get variable from the parent scope\n"
      ]
    },
    {
      "cell_type": "code",
      "metadata": {
        "id": "BW_1o1Ep4RDw",
        "colab_type": "code",
        "colab": {}
      },
      "source": [
        "total = 0\n",
        "\n",
        "def count():\n",
        "  global total\n",
        "  total += 1\n",
        "  return total\n",
        "# not advised"
      ],
      "execution_count": 0,
      "outputs": []
    },
    {
      "cell_type": "markdown",
      "metadata": {
        "id": "ha43x95n4b2Z",
        "colab_type": "text"
      },
      "source": [
        "# OOP\n",
        "## Classes\n",
        "\n",
        "- **'__init__'** - is a dunder (built in) method, meaning. init specifically is a constructor\n",
        "- **'self'** - in this case = this in java, current instance of a class. should be passed to all methods defined in the class, as the first parameter\n",
        "- **!**  there's no need to define attribute within a class\n",
        "- **class object attribute** is static. (membership) (think static keyword in Java)\n",
        "- **attribute** is dynamic and unique to each instance. (regular attributes)\n"
      ]
    },
    {
      "cell_type": "code",
      "metadata": {
        "id": "DUirCwSt4ykp",
        "colab_type": "code",
        "colab": {}
      },
      "source": [
        "class NewClass:\n",
        "  \n",
        "  def  __init__(self, x,, y):\n",
        "    self.x = x\n",
        "    self.y = y\n",
        "\n",
        "  def method(self):\n",
        "    #<some stuff>\n",
        "    pass\n",
        "\n",
        "x1 = 'x1'\n",
        "x2 = 'x2'\n",
        "\n",
        "obj = NewClass(x1, y1)\n",
        "obj.method()"
      ],
      "execution_count": 0,
      "outputs": []
    },
    {
      "cell_type": "markdown",
      "metadata": {
        "id": "sX97aPTV5Gek",
        "colab_type": "text"
      },
      "source": [
        "### @classmethod and @staticmethod\n",
        "\n",
        "*   @classmethod - creates a static method with ability to instantieta a class from the method.\n",
        "*   @staticmethod - static method.\n",
        "\n",
        "[more_information](https://www.makeuseof.com/tag/python-instance-static-class-methods/)\n",
        "\n"
      ]
    },
    {
      "cell_type": "code",
      "metadata": {
        "id": "DwyAVR4Y0VQ4",
        "colab_type": "code",
        "colab": {
          "base_uri": "https://localhost:8080/",
          "height": 51
        },
        "outputId": "6adadd7e-0772-49b9-f2d1-82a88c5754eb"
      },
      "source": [
        "class PlayerCharacter:\n",
        "  membership = True\n",
        "  def __init__(self, name, age):\n",
        "    if self.membership:\n",
        "      self.name = name\n",
        "      self.age = age\n",
        "  \n",
        "  @classmethod\n",
        "  def default_player(cls):\n",
        "    #cls is pointing to current class\n",
        "    return cls('Default', 3)\n",
        "\n",
        "  @staticmethod\n",
        "  def run():\n",
        "    return 'running...'\n",
        "    \n",
        "\n",
        "p1 = PlayerCharacter.default_player()\n",
        "print(p1.name)\n",
        "print(PlayerCharacter.run())"
      ],
      "execution_count": 7,
      "outputs": [
        {
          "output_type": "stream",
          "text": [
            "Default\n",
            "running...\n"
          ],
          "name": "stdout"
        }
      ]
    },
    {
      "cell_type": "markdown",
      "metadata": {
        "id": "I1KBF4BhTBpl",
        "colab_type": "text"
      },
      "source": [
        "### Four pillars of OOP: \n",
        "\n",
        "*   **Encapsulation:** bundling of data with the methods that operate on that data\n",
        "*   **Absctraction:** hiding the internal implementation details\n",
        "*   **Inheritance** inherited classes are called subclasses or derived class\n",
        "*   **Polymorphism** method overriding\n",
        "\n",
        "> There are now true 'private' variables in python. But if something is to not be modidified use naming convention : \n"
      ]
    },
    {
      "cell_type": "code",
      "metadata": {
        "id": "XNlqDx0VV4-Z",
        "colab_type": "code",
        "colab": {
          "base_uri": "https://localhost:8080/",
          "height": 102
        },
        "outputId": "81df5378-e744-4705-90b1-b72a39f24842"
      },
      "source": [
        "_you_variable_name = 'underscore in front indicates that it\\'s a private attribute'\n",
        "\n",
        "class PlayerCharacter:\n",
        "\n",
        "  membership = True\n",
        "\n",
        "  def __init__(self, name, age):\n",
        "    if self.membership:\n",
        "      self._name = name\n",
        "      self._age = age\n",
        "\n",
        "  def sgin_in(self):\n",
        "    print('logged_in')\n",
        "\n",
        "  def attack(self):\n",
        "    print(f'{self._name} attacks with fists!')\n",
        "\n",
        "class Wizzzard(PlayerCharacter):\n",
        "\n",
        "  def __init__(self, name, mana):\n",
        "    self._name = name\n",
        "    self._mana = mana\n",
        "\n",
        "    def attack(self):\n",
        "      print(f'{self._name} attacks with magic!')\n",
        "\n",
        "peasant = PlayerCharacter('Larry', 45)\n",
        "wizard = Wizzzard('Harry', 9001)\n",
        "wizard.sgin_in()\n",
        "\n",
        "print('wizard is inistance of Wizzard? ', isinstance(wizard, Wizzzard))\n",
        "print('wizard is inistance of PlayerCharacter? ', isinstance(wizard, PlayerCharacter))\n",
        "\n",
        "peasant.attack()\n",
        "wizard.attack()"
      ],
      "execution_count": 9,
      "outputs": [
        {
          "output_type": "stream",
          "text": [
            "logged_in\n",
            "wizard is inistance of Wizzard?  True\n",
            "wizard is inistance of PlayerCharacter?  True\n",
            "Larry attacks with fists!\n",
            "Harry attacks with fists!\n"
          ],
          "name": "stdout"
        }
      ]
    },
    {
      "cell_type": "markdown",
      "metadata": {
        "id": "f0y69Ri9bADf",
        "colab_type": "text"
      },
      "source": [
        "### super() and multiple inheritance\n",
        "\n",
        "Same as in JAVA"
      ]
    },
    {
      "cell_type": "code",
      "metadata": {
        "id": "Ngh3GsSsblmW",
        "colab_type": "code",
        "colab": {
          "base_uri": "https://localhost:8080/",
          "height": 34
        },
        "outputId": "af7cf0ac-e3ea-42ee-d830-3be85eef4c66"
      },
      "source": [
        "class Ranger(PlayerCharacter):\n",
        "\n",
        "  def __init__(self, name, age, arrows):\n",
        "    super().__init__(name, age)\n",
        "    self._arrows = arrows\n",
        "\n",
        "  def attack(self):\n",
        "    print(f'{self._name} attacks from afar!')\n",
        "\n",
        "aragorn = Ranger('Aragorn', 100, 50)\n",
        "aragorn.attack()"
      ],
      "execution_count": 13,
      "outputs": [
        {
          "output_type": "stream",
          "text": [
            "Aragorn attacks from afar!\n"
          ],
          "name": "stdout"
        }
      ]
    },
    {
      "cell_type": "code",
      "metadata": {
        "id": "WrEEWuGDiwJ8",
        "colab_type": "code",
        "colab": {}
      },
      "source": [
        "# multiple inheritance\n",
        "class MagicalRanger(Wizzard, Ranger):\n",
        "  #TODO"
      ],
      "execution_count": 0,
      "outputs": []
    },
    {
      "cell_type": "markdown",
      "metadata": {
        "id": "dEhKSvjccqYT",
        "colab_type": "text"
      },
      "source": [
        "### Introspection\n",
        "\n",
        "figuring out the type of an object at runtime"
      ]
    },
    {
      "cell_type": "code",
      "metadata": {
        "id": "yAJmP7q3c0_c",
        "colab_type": "code",
        "colab": {
          "base_uri": "https://localhost:8080/",
          "height": 561
        },
        "outputId": "286b7148-960b-44e1-9760-4029b6cb15da"
      },
      "source": [
        "dir(aragorn) # return all available to an object methods"
      ],
      "execution_count": 15,
      "outputs": [
        {
          "output_type": "execute_result",
          "data": {
            "text/plain": [
              "['__class__',\n",
              " '__delattr__',\n",
              " '__dict__',\n",
              " '__dir__',\n",
              " '__doc__',\n",
              " '__eq__',\n",
              " '__format__',\n",
              " '__ge__',\n",
              " '__getattribute__',\n",
              " '__gt__',\n",
              " '__hash__',\n",
              " '__init__',\n",
              " '__init_subclass__',\n",
              " '__le__',\n",
              " '__lt__',\n",
              " '__module__',\n",
              " '__ne__',\n",
              " '__new__',\n",
              " '__reduce__',\n",
              " '__reduce_ex__',\n",
              " '__repr__',\n",
              " '__setattr__',\n",
              " '__sizeof__',\n",
              " '__str__',\n",
              " '__subclasshook__',\n",
              " '__weakref__',\n",
              " '_age',\n",
              " '_arrows',\n",
              " '_name',\n",
              " 'attack',\n",
              " 'membership',\n",
              " 'sgin_in']"
            ]
          },
          "metadata": {
            "tags": []
          },
          "execution_count": 15
        }
      ]
    },
    {
      "cell_type": "markdown",
      "metadata": {
        "id": "TxzuDFc3eVVF",
        "colab_type": "text"
      },
      "source": [
        "### Dunder mehods\n",
        "\n",
        "Are methods belonging to python's superclass object like str(), len() etc.\n",
        " \n",
        " If necessary these can be overriden using the __method__ definition:"
      ]
    },
    {
      "cell_type": "code",
      "metadata": {
        "id": "jXJUBtEAexkb",
        "colab_type": "code",
        "colab": {
          "base_uri": "https://localhost:8080/",
          "height": 88
        },
        "outputId": "594eb0b5-915a-4131-84b2-96f7a294e89b"
      },
      "source": [
        "class SomeClass:\n",
        "  def __init__(self):\n",
        "    print('Instantiated!')\n",
        "\n",
        "  def __str__(self):\n",
        "    return 'Now, I am a string!'\n",
        "\n",
        "\n",
        "new = SomeClass()\n",
        "print(str(new))\n",
        "print(new.__str__)"
      ],
      "execution_count": 1,
      "outputs": [
        {
          "output_type": "stream",
          "text": [
            "Instantiated!\n",
            "Now, I am a string!\n",
            "<bound method SomeClass.__str__ of <__main__.SomeClass object at 0x7f7b72fb06a0>>\n"
          ],
          "name": "stdout"
        }
      ]
    },
    {
      "cell_type": "code",
      "metadata": {
        "id": "GRsHPBJNgjyD",
        "colab_type": "code",
        "colab": {
          "base_uri": "https://localhost:8080/",
          "height": 51
        },
        "outputId": "98c15388-4d04-4a36-d9a0-3db143a479be"
      },
      "source": [
        "class SuperList(list):\n",
        "    def __len__(self):\n",
        "      return 1000;\n",
        "\n",
        "\n",
        "lst = SuperList()\n",
        "lst.append(5)\n",
        "print(issubclass(SuperList, list))\n",
        "len(lst)"
      ],
      "execution_count": 32,
      "outputs": [
        {
          "output_type": "stream",
          "text": [
            "True\n"
          ],
          "name": "stdout"
        },
        {
          "output_type": "execute_result",
          "data": {
            "text/plain": [
              "1000"
            ]
          },
          "metadata": {
            "tags": []
          },
          "execution_count": 32
        }
      ]
    },
    {
      "cell_type": "markdown",
      "metadata": {
        "id": "f_KP8y7QSb5i",
        "colab_type": "text"
      },
      "source": [
        "### MRO\n",
        "\n",
        "Method Resolution Order - in cases of inheritance resolves in which order overriden methods will be resolved. Uses depth first algorythm"
      ]
    },
    {
      "cell_type": "code",
      "metadata": {
        "id": "0gKE2ivrSpy8",
        "colab_type": "code",
        "colab": {
          "base_uri": "https://localhost:8080/",
          "height": 136
        },
        "outputId": "0a1f21e9-d4c6-4241-dfc4-d887757ee2e3"
      },
      "source": [
        "class X: pass\n",
        "class Y: pass\n",
        "class Z: pass\n",
        "\n",
        "class A(X,Y): pass\n",
        "class B(Y,Z): pass\n",
        "class M(B,A,Z): pass\n",
        "\n",
        "M.mro()"
      ],
      "execution_count": 3,
      "outputs": [
        {
          "output_type": "execute_result",
          "data": {
            "text/plain": [
              "[__main__.M,\n",
              " __main__.B,\n",
              " __main__.A,\n",
              " __main__.X,\n",
              " __main__.Y,\n",
              " __main__.Z,\n",
              " object]"
            ]
          },
          "metadata": {
            "tags": []
          },
          "execution_count": 3
        }
      ]
    },
    {
      "cell_type": "markdown",
      "metadata": {
        "id": "aprkdRnP3Nk0",
        "colab_type": "text"
      },
      "source": [
        "# FUNCTIONAL"
      ]
    },
    {
      "cell_type": "markdown",
      "metadata": {
        "id": "btBFoiL924gT",
        "colab_type": "text"
      },
      "source": [
        "# DATA SCIENCE"
      ]
    },
    {
      "cell_type": "markdown",
      "metadata": {
        "id": "gYJ3BzBY16oq",
        "colab_type": "text"
      },
      "source": [
        "# MACHINE LEARNING"
      ]
    }
  ]
}