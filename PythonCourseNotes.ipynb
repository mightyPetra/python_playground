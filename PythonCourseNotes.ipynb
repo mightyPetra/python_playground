{
  "nbformat": 4,
  "nbformat_minor": 0,
  "metadata": {
    "colab": {
      "name": "PythonCourseNotes.ipynb",
      "provenance": [],
      "collapsed_sections": [],
      "toc_visible": true,
      "authorship_tag": "ABX9TyNMku5tbp6qpGAkMes0Plp3",
      "include_colab_link": true
    },
    "kernelspec": {
      "name": "python3",
      "display_name": "Python 3"
    }
  },
  "cells": [
    {
      "cell_type": "markdown",
      "metadata": {
        "id": "view-in-github",
        "colab_type": "text"
      },
      "source": [
        "<a href=\"https://colab.research.google.com/github/mightyPetra/python_playground/blob/master/PythonCourseNotes.ipynb\" target=\"_parent\"><img src=\"https://colab.research.google.com/assets/colab-badge.svg\" alt=\"Open In Colab\"/></a>"
      ]
    },
    {
      "cell_type": "markdown",
      "metadata": {
        "id": "2wXSjDOo1ZZa",
        "colab_type": "text"
      },
      "source": [
        "# Developer tips\n",
        " \n",
        "* [better comments](https://realpython.com/python-comments-guide/)\n",
        "* PEP8 - Python style guide\n",
        "* [data science project styling guide](https://www.dataquest.io/blog/data-science-project-style-guide/)\n",
        "\n"
      ]
    },
    {
      "cell_type": "markdown",
      "metadata": {
        "id": "UxT2PCf31ycS",
        "colab_type": "text"
      },
      "source": [
        "#BASICS\n",
        "##Functions vs methods\n",
        "- function **slicing** creates new object (function)\n",
        "- methods modify the existing object and return None. (just like Java)"
      ]
    },
    {
      "cell_type": "markdown",
      "metadata": {
        "id": "wP3_Qkw211_Q",
        "colab_type": "text"
      },
      "source": [
        "##Data types\n",
        "- **dictionary** == map (unordered)\n",
        "- dictionary keys == only immutable objects\n",
        "- dictionary. get (key, default value) \n",
        "- **list** (ordered, id's won't work)\n",
        "- .pop() - removes value by index/key and returns the value.\n",
        "- .popitem() - removes last item from **list**, removes **random (last written)** value from dictionary\n",
        "- .update() - updates existing or creates new\n",
        "- **tuples** - immutable list, faster than list\n",
        "- **set** - unordered collection of unique items, no indexing"
      ]
    },
    {
      "cell_type": "code",
      "metadata": {
        "id": "Ey7sz--AMoHg",
        "colab_type": "code",
        "colab": {}
      },
      "source": [
        "for key, val in dictionary.items():\n",
        "  #automatically assigns each key: value pair to variables key and val (this exists in java8 as well, just learned today lol)\n"
      ],
      "execution_count": 0,
      "outputs": []
    },
    {
      "cell_type": "markdown",
      "metadata": {
        "id": "etLbOiaw173M",
        "colab_type": "text"
      },
      "source": [
        "##Truthy and Falsey\n",
        "- any type can be converted into boolean (bool())\n",
        "- if the type is empty or None => Falsey\n",
        "- everything else => Truthy"
      ]
    },
    {
      "cell_type": "markdown",
      "metadata": {
        "id": "khzT0_vp2Bco",
        "colab_type": "text"
      },
      "source": [
        "##Short circuiting\n",
        "In ternary operator when using two boolean values and or/and logical operator, the compiler can ignore the following statement if first one passes the check.\n",
        "i.e. if true or false -> false will be ignored\n",
        "i.e. if false and true -> true will be ignored"
      ]
    },
    {
      "cell_type": "markdown",
      "metadata": {
        "id": "vVy-_7c82F0R",
        "colab_type": "text"
      },
      "source": [
        "## is vs ==\n",
        "== - equal\n",
        "is - is the same object (same memory block)\n",
        "\n",
        "(opposite to java, where equals() compares content, but == compares objects)"
      ]
    },
    {
      "cell_type": "markdown",
      "metadata": {
        "id": "Z54kFSeW2Pw0",
        "colab_type": "text"
      },
      "source": [
        "##range(x, y, z)\n",
        "returns range of numbers from x to y by step z\n",
        "\n",
        "_ - a non-variable (like int I in for loops)"
      ]
    },
    {
      "cell_type": "code",
      "metadata": {
        "id": "UT3svJab2Zxp",
        "colab_type": "code",
        "colab": {}
      },
      "source": [
        "for _ in range (0, 100):\n",
        "  #do stuff here\n",
        "\n",
        "for _ in range (10, 0, -1):\n",
        "  #will loop in the opposite direction\n",
        "\n",
        "list(range(0,10)) #will produce list of values 0 to 9"
      ],
      "execution_count": 0,
      "outputs": []
    },
    {
      "cell_type": "markdown",
      "metadata": {
        "id": "a5o38GUQ2twE",
        "colab_type": "text"
      },
      "source": [
        "##enumerate()"
      ]
    },
    {
      "cell_type": "code",
      "metadata": {
        "id": "5tLlE0iW2xwA",
        "colab_type": "code",
        "colab": {}
      },
      "source": [
        "for i, item in enumerate(some_iterable):\n",
        "   #*i* return the index of an item\n",
        "   #*item* return item of the iterable"
      ],
      "execution_count": 0,
      "outputs": []
    },
    {
      "cell_type": "markdown",
      "metadata": {
        "id": "blJI1ew826CG",
        "colab_type": "text"
      },
      "source": [
        "##Keyword arguments and default parameters\n",
        "unlike positional args (in functions) you can switch the argument order by explicitly stating which is which:"
      ]
    },
    {
      "cell_type": "code",
      "metadata": {
        "id": "aDPnCnE429zk",
        "colab_type": "code",
        "colab": {}
      },
      "source": [
        "def function(arg1, arg2):\n",
        "  #<do things>\n",
        "  \n",
        "funcion(arg1_val, arg2_val)\n",
        "function(arg2=arg2_val, arg1=arg1_val)"
      ],
      "execution_count": 0,
      "outputs": []
    },
    {
      "cell_type": "markdown",
      "metadata": {
        "id": "56OMrCKD3Gow",
        "colab_type": "text"
      },
      "source": [
        "dault parameters look like this:"
      ]
    },
    {
      "cell_type": "code",
      "metadata": {
        "id": "6cPSNwJr3Hr6",
        "colab_type": "code",
        "colab": {}
      },
      "source": [
        "def func(arg1='arg1', arg2='arg2'):\n",
        "  #<some code here>"
      ],
      "execution_count": 0,
      "outputs": []
    },
    {
      "cell_type": "markdown",
      "metadata": {
        "id": "qCeldtDq3OwC",
        "colab_type": "text"
      },
      "source": [
        "##Nested functions\n",
        "functions can be nested"
      ]
    },
    {
      "cell_type": "code",
      "metadata": {
        "id": "GC1wHuds3UtG",
        "colab_type": "code",
        "colab": {}
      },
      "source": [
        "def func1():\n",
        "  def func2():\n",
        "    return 1\n",
        "  return func2()"
      ],
      "execution_count": 0,
      "outputs": []
    },
    {
      "cell_type": "markdown",
      "metadata": {
        "id": "U3rs-5NI3dRs",
        "colab_type": "text"
      },
      "source": [
        "## Multiple argumanets of the same type"
      ]
    },
    {
      "cell_type": "code",
      "metadata": {
        "id": "jQFAw0Em3hmW",
        "colab_type": "code",
        "colab": {}
      },
      "source": [
        "def super_func(*args): #-> a tuple of arguments passed\n",
        "super_func(1,2,3,4) -> (1,2,3,4)\n",
        "\n",
        "def ultimate_func(**kwargs) ->  a dictionary of arguments\n",
        "ultimate_func(num1=1, num2=2, num3=5) -> {num1: 1, num2: 2, num3: 5}"
      ],
      "execution_count": 0,
      "outputs": []
    },
    {
      "cell_type": "markdown",
      "metadata": {
        "id": "cor2qs_B30_C",
        "colab_type": "text"
      },
      "source": [
        "##Global and nonlocal\n",
        "specify variable scope with these keywords. \n",
        "\n",
        " *global* - defined outside the scope of function\n",
        " *nonlocal* - get variable from the parent scope\n"
      ]
    },
    {
      "cell_type": "code",
      "metadata": {
        "id": "BW_1o1Ep4RDw",
        "colab_type": "code",
        "colab": {}
      },
      "source": [
        "total = 0\n",
        "\n",
        "def count():\n",
        "  global total\n",
        "  total += 1\n",
        "  return total\n",
        "# not advised"
      ],
      "execution_count": 0,
      "outputs": []
    },
    {
      "cell_type": "markdown",
      "metadata": {
        "id": "ha43x95n4b2Z",
        "colab_type": "text"
      },
      "source": [
        "# OOP\n",
        "## Classes\n",
        "\n",
        "- **'__init__'** - is a dunder method, meaning. init specifically is a constructor\n",
        "- **'self'** - in this case = this in java, current instance of a class. should be passed to all methods defined in the class, as the first parameter\n",
        "- **!**  there's no need to define attribute within a class\n",
        "- **class object attribute** is static. (membership) (think static keyword in Java)\n",
        "- **attribute** is dynamic and unique to each instance. (regular attributes)\n"
      ]
    },
    {
      "cell_type": "code",
      "metadata": {
        "id": "DUirCwSt4ykp",
        "colab_type": "code",
        "colab": {}
      },
      "source": [
        "class NewClass:\n",
        "  \n",
        "  def  __init__(self, x,, y):\n",
        "    self.x = x\n",
        "    self.y = y\n",
        "\n",
        "  def method(self):\n",
        "    #<some stuff>\n",
        "    pass\n",
        "\n",
        "x1 = 'x1'\n",
        "x2 = 'x2'\n",
        "\n",
        "obj = NewClass(x1, y1)\n",
        "obj.method()"
      ],
      "execution_count": 0,
      "outputs": []
    },
    {
      "cell_type": "markdown",
      "metadata": {
        "id": "sX97aPTV5Gek",
        "colab_type": "text"
      },
      "source": [
        "### @classmethod and @staticmethod\n",
        "\n",
        "*   @classmethod - creates a static method with ability to instantieta a class from the method.\n",
        "*   @staticmethod - static method.\n",
        "\n",
        "[more_information](https://www.makeuseof.com/tag/python-instance-static-class-methods/)\n",
        "\n"
      ]
    },
    {
      "cell_type": "code",
      "metadata": {
        "id": "DwyAVR4Y0VQ4",
        "colab_type": "code",
        "colab": {
          "base_uri": "https://localhost:8080/",
          "height": 51
        },
        "outputId": "6adadd7e-0772-49b9-f2d1-82a88c5754eb"
      },
      "source": [
        "class PlayerCharacter:\n",
        "  membership = True\n",
        "  def __init__(self, name, age):\n",
        "    if self.membership:\n",
        "      self.name = name\n",
        "      self.age = age\n",
        "  \n",
        "  @classmethod\n",
        "  def default_player(cls):\n",
        "    #cls is pointing to current class\n",
        "    return cls('Default', 3)\n",
        "\n",
        "  @staticmethod\n",
        "  def run():\n",
        "    return 'running...'\n",
        "    \n",
        "\n",
        "p1 = PlayerCharacter.default_player()\n",
        "print(p1.name)\n",
        "print(PlayerCharacter.run())"
      ],
      "execution_count": 7,
      "outputs": [
        {
          "output_type": "stream",
          "text": [
            "Default\n",
            "running...\n"
          ],
          "name": "stdout"
        }
      ]
    },
    {
      "cell_type": "markdown",
      "metadata": {
        "id": "aprkdRnP3Nk0",
        "colab_type": "text"
      },
      "source": [
        "# FUNCTIONAL"
      ]
    },
    {
      "cell_type": "markdown",
      "metadata": {
        "id": "btBFoiL924gT",
        "colab_type": "text"
      },
      "source": [
        "# DATA SCIENCE"
      ]
    },
    {
      "cell_type": "markdown",
      "metadata": {
        "id": "gYJ3BzBY16oq",
        "colab_type": "text"
      },
      "source": [
        "# MACHINE LEARNING"
      ]
    }
  ]
}